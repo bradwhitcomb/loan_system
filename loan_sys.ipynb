{
 "cells": [
  {
   "cell_type": "markdown",
   "metadata": {},
   "source": [
    "# Asset-based lending: \"a primer in python\"<br>\n",
    ">## <font color = green>Asset_based lending (ABL) is an efficient and flexible technique to finance working capital heavy businesses.  It works quite well for noninvestment grade manufacturers and distributors that want to finance inventories and accounts.  In this notebook I've written a simple ABL platform in python to illustrate ABL's capabilities.</font>\n",
    "\n",
    ">__[ABL from Wikipedia](https://en.wikipedia.org/wiki/Asset-based_lending)__\n",
    "\n",
    "\n"
   ]
  },
  {
   "cell_type": "markdown",
   "metadata": {},
   "source": [
    "### Step one.  import our dependencies"
   ]
  },
  {
   "cell_type": "code",
   "execution_count": 145,
   "metadata": {},
   "outputs": [],
   "source": [
    "from datetime import date\n",
    "import pandas as pd\n",
    "import matplotlib.pyplot as plt\n"
   ]
  },
  {
   "cell_type": "code",
   "execution_count": 146,
   "metadata": {},
   "outputs": [],
   "source": [
    "from loan_sys_objects import Customer, Loan, Accounts_receivable, Interest\n",
    "from loan_sys_functions import excess_availability, collections, loan_advance, daily_build\n",
    "from loan_sys_functions import loan_hist, date_hist, i_rate_hist, accrued_interest_hist, liquidity_hist"
   ]
  },
  {
   "cell_type": "markdown",
   "metadata": {},
   "source": [
    "### Step two.  Create an instance of the following:\n",
    "* Customer object\n",
    "* Loan object\n",
    "* Accounts_receivable object\n",
    "* Interest object\n"
   ]
  },
  {
   "cell_type": "code",
   "execution_count": 147,
   "metadata": {},
   "outputs": [],
   "source": [
    "ABC_mfg = Customer('ABC_mfg', 'abc@gmail.com', 'Atlanta')\n",
    "ABC_loan = Loan(5000000, 0)\n",
    "ABC_collateral = Accounts_receivable(6000000, 600000, .85)\n",
    "ABC_interest = Interest(.03, .0325)"
   ]
  },
  {
   "cell_type": "markdown",
   "metadata": {},
   "source": [
    "#### Verify the customer object:"
   ]
  },
  {
   "cell_type": "code",
   "execution_count": 148,
   "metadata": {},
   "outputs": [
    {
     "data": {
      "text/plain": [
       "Customer name: ABC_mfg\n",
       "Customer email: abc@gmail.com\n",
       "Customer Location: Atlanta "
      ]
     },
     "execution_count": 148,
     "metadata": {},
     "output_type": "execute_result"
    }
   ],
   "source": [
    "ABC_mfg"
   ]
  },
  {
   "cell_type": "markdown",
   "metadata": {},
   "source": [
    "#### Verify the loan object:"
   ]
  },
  {
   "cell_type": "code",
   "execution_count": 149,
   "metadata": {},
   "outputs": [
    {
     "data": {
      "text/plain": [
       "Commitment:$5,000,000\n",
       "Loan: $0"
      ]
     },
     "execution_count": 149,
     "metadata": {},
     "output_type": "execute_result"
    }
   ],
   "source": [
    "ABC_loan"
   ]
  },
  {
   "cell_type": "markdown",
   "metadata": {},
   "source": [
    "#### Verify the collateral object:"
   ]
  },
  {
   "cell_type": "code",
   "execution_count": 150,
   "metadata": {},
   "outputs": [
    {
     "data": {
      "text/plain": [
       "Total Aging:$6,000,000\n",
       "Past Dues: $600,000\n",
       "Advance Rate: 85.00%"
      ]
     },
     "execution_count": 150,
     "metadata": {},
     "output_type": "execute_result"
    }
   ],
   "source": [
    "ABC_collateral"
   ]
  },
  {
   "cell_type": "markdown",
   "metadata": {},
   "source": [
    "#### Verify the interest object"
   ]
  },
  {
   "cell_type": "code",
   "execution_count": 151,
   "metadata": {},
   "outputs": [
    {
     "data": {
      "text/plain": [
       "Base Rate:3.00%\n",
       "Margin: 3.25%"
      ]
     },
     "execution_count": 151,
     "metadata": {},
     "output_type": "execute_result"
    }
   ],
   "source": [
    "ABC_interest"
   ]
  },
  {
   "cell_type": "code",
   "execution_count": 152,
   "metadata": {},
   "outputs": [
    {
     "data": {
      "text/plain": [
       "'The interest rate is the sum of the base rate plus the margin: 6.25%'"
      ]
     },
     "execution_count": 152,
     "metadata": {},
     "output_type": "execute_result"
    }
   ],
   "source": [
    "f'The interest rate is the sum of the base rate plus the margin: {ABC_interest.interest_rate():.2%}'"
   ]
  },
  {
   "cell_type": "markdown",
   "metadata": {},
   "source": [
    "### <font color = green > To summarize:\n",
    "* ABC mfg has a  commited credit facility secured by the company's accounts receivable.  The initial loan balance is $0.\n",
    "* ABC mfg has pledged 6,000,000 of accounts to the lender but the lender but determined that past due accounts are 600,000 and will lend 85% of the eligible accounts.\n",
    "* The interest rate consists of two parts, a base rate and a margin.  The base rate is typically tied to an index such as 90 libor, US prime rate or some similar market rate.  The number is variable, that is it can fluctuate with the market.  The lenders margin is 3.25% above the index.  This percentage is contractually fixed.</font>\n",
    "\n"
   ]
  },
  {
   "cell_type": "markdown",
   "metadata": {},
   "source": [
    "> #### An important concept is the term \"availability\".  For many borrowers excess availability is synonomous with liquidity"
   ]
  },
  {
   "cell_type": "code",
   "execution_count": 153,
   "metadata": {},
   "outputs": [
    {
     "data": {
      "text/plain": [
       "'Collateral Availability totals $4,590,000.00.  This equates to gross acounts minus past dues and subsequently reduced by the advance rate of 85%'"
      ]
     },
     "execution_count": 153,
     "metadata": {},
     "output_type": "execute_result"
    }
   ],
   "source": [
    "collateral_availability = ABC_collateral.loan_availability()\n",
    "f'Collateral Availability totals ${collateral_availability:,.2f}.  This equates to gross acounts minus past dues and subsequently reduced by the advance rate of 85%'"
   ]
  },
  {
   "cell_type": "code",
   "execution_count": 154,
   "metadata": {},
   "outputs": [
    {
     "data": {
      "text/plain": [
       "'Excess Availability totals $4,590,000.00.  Excess availability equates to collateral availability less the loan balance'"
      ]
     },
     "execution_count": 154,
     "metadata": {},
     "output_type": "execute_result"
    }
   ],
   "source": [
    "excess_avail = excess_availability(ABC_collateral, ABC_loan)\n",
    "f'Excess Availability totals ${excess_avail:,.2f}.  Excess availability equates to collateral availability less the loan balance'"
   ]
  },
  {
   "cell_type": "markdown",
   "metadata": {},
   "source": [
    "### So far, excess Availability is the same as total Availability that's true because the borrower has a zero loan balance.  Lets borrow some money and see what happens"
   ]
  },
  {
   "cell_type": "markdown",
   "metadata": {},
   "source": [
    "#### We will call the loan_draw method on the loan object to make a $50,000 loan advance"
   ]
  },
  {
   "cell_type": "code",
   "execution_count": 155,
   "metadata": {},
   "outputs": [
    {
     "data": {
      "text/plain": [
       "'The borrower draws down $50,000 and the new loan balance is $50,000.00'"
      ]
     },
     "execution_count": 155,
     "metadata": {},
     "output_type": "execute_result"
    }
   ],
   "source": [
    "f\"The borrower draws down $50,000 and the new loan balance is ${ABC_loan.loan_draw(50000):,.2f}\""
   ]
  },
  {
   "cell_type": "code",
   "execution_count": 156,
   "metadata": {},
   "outputs": [
    {
     "data": {
      "text/plain": [
       "' After the draw the excess availability has dropped $50,000 to $4,540,000.00'"
      ]
     },
     "execution_count": 156,
     "metadata": {},
     "output_type": "execute_result"
    }
   ],
   "source": [
    "f\" After the draw the excess availability has dropped $50,000 to ${excess_availability(ABC_collateral, ABC_loan):,.2f}\""
   ]
  },
  {
   "cell_type": "code",
   "execution_count": 157,
   "metadata": {},
   "outputs": [
    {
     "data": {
      "text/plain": [
       "Commitment:$5,000,000\n",
       "Loan: $50,000"
      ]
     },
     "execution_count": 157,
     "metadata": {},
     "output_type": "execute_result"
    }
   ],
   "source": [
    "ABC_loan"
   ]
  },
  {
   "cell_type": "code",
   "execution_count": 158,
   "metadata": {},
   "outputs": [
    {
     "data": {
      "text/plain": [
       "Total Aging:$6,000,000\n",
       "Past Dues: $600,000\n",
       "Advance Rate: 85.00%"
      ]
     },
     "execution_count": 158,
     "metadata": {},
     "output_type": "execute_result"
    }
   ],
   "source": [
    "ABC_collateral"
   ]
  },
  {
   "cell_type": "markdown",
   "metadata": {},
   "source": [
    "#### Next the borrower collects $10,000 of accounts.  We apply the collections to reduce the loan balance and to reduce the collateral balance"
   ]
  },
  {
   "cell_type": "code",
   "execution_count": 159,
   "metadata": {},
   "outputs": [],
   "source": [
    "collections(ABC_collateral, ABC_loan, 10000)"
   ]
  },
  {
   "cell_type": "code",
   "execution_count": 160,
   "metadata": {},
   "outputs": [
    {
     "data": {
      "text/plain": [
       "'The new loan amount is $40,000.00'"
      ]
     },
     "execution_count": 160,
     "metadata": {},
     "output_type": "execute_result"
    }
   ],
   "source": [
    "f\"The new loan amount is ${ABC_loan.loan:,.2f}\" "
   ]
  },
  {
   "cell_type": "code",
   "execution_count": 161,
   "metadata": {},
   "outputs": [
    {
     "data": {
      "text/plain": [
       "'The new excess availability is $4,541,500.00'"
      ]
     },
     "execution_count": 161,
     "metadata": {},
     "output_type": "execute_result"
    }
   ],
   "source": [
    "f\"The new excess availability is ${excess_availability(ABC_collateral, ABC_loan):,.2f}\""
   ]
  },
  {
   "cell_type": "markdown",
   "metadata": {},
   "source": [
    "#### Let's recap:"
   ]
  },
  {
   "cell_type": "code",
   "execution_count": 162,
   "metadata": {},
   "outputs": [
    {
     "data": {
      "text/plain": [
       "Commitment:$5,000,000\n",
       "Loan: $40,000"
      ]
     },
     "execution_count": 162,
     "metadata": {},
     "output_type": "execute_result"
    }
   ],
   "source": [
    "ABC_loan"
   ]
  },
  {
   "cell_type": "code",
   "execution_count": 163,
   "metadata": {},
   "outputs": [
    {
     "data": {
      "text/plain": [
       "Total Aging:$5,990,000\n",
       "Past Dues: $600,000\n",
       "Advance Rate: 85.00%"
      ]
     },
     "execution_count": 163,
     "metadata": {},
     "output_type": "execute_result"
    }
   ],
   "source": [
    "ABC_collateral"
   ]
  },
  {
   "cell_type": "code",
   "execution_count": 164,
   "metadata": {},
   "outputs": [
    {
     "data": {
      "text/plain": [
       "'Excess Availability totals $4,541,500.00.'"
      ]
     },
     "execution_count": 164,
     "metadata": {},
     "output_type": "execute_result"
    }
   ],
   "source": [
    "excess_avail = excess_availability(ABC_collateral, ABC_loan)\n",
    "f'Excess Availability totals ${excess_avail:,.2f}.'"
   ]
  },
  {
   "cell_type": "markdown",
   "metadata": {},
   "source": [
    "> ### <font color = 'green'> Once again to summarize:\n",
    "* The borrower opened with no loan and 4,590,000 in excess undrawn availability on the line of credit.\n",
    "* The borrower then took a draw for 50,000.  The loan went up and excess availability went down, both by 50,000\n",
    "* Next the borrower collected 10,000 of accounts receivable. The loan decreases by $10,000 and the collateral decreases by $10,000 but the excess availability, the liquidity of the business increases by 1,500."
   ]
  },
  {
   "cell_type": "code",
   "execution_count": 178,
   "metadata": {},
   "outputs": [],
   "source": [
    "# date_hist = []\n",
    "# loan_hist = []\n",
    "# i_rate_hist = []\n",
    "# accrued_interest_hist = []"
   ]
  },
  {
   "cell_type": "code",
   "execution_count": 166,
   "metadata": {},
   "outputs": [],
   "source": [
    "loan_advance(ABC_collateral,ABC_loan,500000,2019,1,1,ABC_interest)\n",
    "loan_advance(ABC_collateral,ABC_loan,500000,2019,1,2,ABC_interest)\n",
    "loan_advance(ABC_collateral,ABC_loan,500000,2019,1,3,ABC_interest)\n",
    "loan_advance(ABC_collateral,ABC_loan,500000,2019,1,4,ABC_interest)\n",
    "loan_advance(ABC_collateral,ABC_loan,500000,2019,1,5,ABC_interest)\n",
    "loan_advance(ABC_collateral,ABC_loan,500000,2019,1,6,ABC_interest)\n",
    "loan_advance(ABC_collateral,ABC_loan,500000,2019,1,7,ABC_interest)\n",
    "loan_advance(ABC_collateral,ABC_loan,500000,2019,1,8,ABC_interest)\n"
   ]
  },
  {
   "cell_type": "code",
   "execution_count": 167,
   "metadata": {},
   "outputs": [
    {
     "data": {
      "text/plain": [
       "4040000"
      ]
     },
     "execution_count": 167,
     "metadata": {},
     "output_type": "execute_result"
    }
   ],
   "source": [
    "ABC_loan.loan"
   ]
  },
  {
   "cell_type": "code",
   "execution_count": 168,
   "metadata": {},
   "outputs": [
    {
     "data": {
      "text/plain": [
       "[0,\n",
       " 540000,\n",
       " 1040000,\n",
       " 1540000,\n",
       " 2040000,\n",
       " 2540000,\n",
       " 3040000,\n",
       " 3540000,\n",
       " 4040000,\n",
       " 540000,\n",
       " 1040000,\n",
       " 1540000,\n",
       " 2040000,\n",
       " 2540000,\n",
       " 3040000,\n",
       " 3540000,\n",
       " 4040000,\n",
       " 540000,\n",
       " 1040000,\n",
       " 1540000,\n",
       " 2040000,\n",
       " 2540000,\n",
       " 3040000,\n",
       " 3540000,\n",
       " 4040000,\n",
       " 540000,\n",
       " 1040000,\n",
       " 1540000,\n",
       " 2040000,\n",
       " 2540000,\n",
       " 3040000,\n",
       " 3540000,\n",
       " 4040000,\n",
       " 540000,\n",
       " 1040000,\n",
       " 1540000,\n",
       " 2040000,\n",
       " 2540000,\n",
       " 3040000,\n",
       " 3540000,\n",
       " 4040000]"
      ]
     },
     "execution_count": 168,
     "metadata": {},
     "output_type": "execute_result"
    }
   ],
   "source": [
    "loan_hist"
   ]
  },
  {
   "cell_type": "code",
   "execution_count": 169,
   "metadata": {},
   "outputs": [
    {
     "data": {
      "text/plain": [
       "[datetime.date(2018, 12, 31),\n",
       " datetime.date(2019, 1, 1),\n",
       " datetime.date(2019, 1, 2),\n",
       " datetime.date(2019, 1, 3),\n",
       " datetime.date(2019, 1, 4),\n",
       " datetime.date(2019, 1, 5),\n",
       " datetime.date(2019, 1, 6),\n",
       " datetime.date(2019, 1, 7),\n",
       " datetime.date(2019, 1, 8),\n",
       " datetime.date(2019, 1, 1),\n",
       " datetime.date(2019, 1, 2),\n",
       " datetime.date(2019, 1, 3),\n",
       " datetime.date(2019, 1, 4),\n",
       " datetime.date(2019, 1, 5),\n",
       " datetime.date(2019, 1, 6),\n",
       " datetime.date(2019, 1, 7),\n",
       " datetime.date(2019, 1, 8),\n",
       " datetime.date(2019, 1, 1),\n",
       " datetime.date(2019, 1, 2),\n",
       " datetime.date(2019, 1, 3),\n",
       " datetime.date(2019, 1, 4),\n",
       " datetime.date(2019, 1, 5),\n",
       " datetime.date(2019, 1, 6),\n",
       " datetime.date(2019, 1, 7),\n",
       " datetime.date(2019, 1, 8),\n",
       " datetime.date(2019, 1, 1),\n",
       " datetime.date(2019, 1, 2),\n",
       " datetime.date(2019, 1, 3),\n",
       " datetime.date(2019, 1, 4),\n",
       " datetime.date(2019, 1, 5),\n",
       " datetime.date(2019, 1, 6),\n",
       " datetime.date(2019, 1, 7),\n",
       " datetime.date(2019, 1, 8),\n",
       " datetime.date(2019, 1, 1),\n",
       " datetime.date(2019, 1, 2),\n",
       " datetime.date(2019, 1, 3),\n",
       " datetime.date(2019, 1, 4),\n",
       " datetime.date(2019, 1, 5),\n",
       " datetime.date(2019, 1, 6),\n",
       " datetime.date(2019, 1, 7),\n",
       " datetime.date(2019, 1, 8)]"
      ]
     },
     "execution_count": 169,
     "metadata": {},
     "output_type": "execute_result"
    }
   ],
   "source": [
    "date_hist"
   ]
  },
  {
   "cell_type": "code",
   "execution_count": 170,
   "metadata": {},
   "outputs": [
    {
     "data": {
      "text/plain": [
       "[0,\n",
       " 0.0625,\n",
       " 0.0625,\n",
       " 0.0625,\n",
       " 0.0625,\n",
       " 0.0625,\n",
       " 0.0625,\n",
       " 0.0625,\n",
       " 0.0625,\n",
       " 0.0625,\n",
       " 0.0625,\n",
       " 0.0625,\n",
       " 0.0625,\n",
       " 0.0625,\n",
       " 0.0625,\n",
       " 0.0625,\n",
       " 0.0625,\n",
       " 0.0625,\n",
       " 0.0625,\n",
       " 0.0625,\n",
       " 0.0625,\n",
       " 0.0625,\n",
       " 0.0625,\n",
       " 0.0625,\n",
       " 0.0625,\n",
       " 0.0625,\n",
       " 0.0625,\n",
       " 0.0625,\n",
       " 0.0625,\n",
       " 0.0625,\n",
       " 0.0625,\n",
       " 0.0625,\n",
       " 0.0625,\n",
       " 0.0625,\n",
       " 0.0625,\n",
       " 0.0625,\n",
       " 0.0625,\n",
       " 0.0625,\n",
       " 0.0625,\n",
       " 0.0625,\n",
       " 0.0625]"
      ]
     },
     "execution_count": 170,
     "metadata": {},
     "output_type": "execute_result"
    }
   ],
   "source": [
    "i_rate_hist"
   ]
  },
  {
   "cell_type": "code",
   "execution_count": 171,
   "metadata": {},
   "outputs": [
    {
     "data": {
      "text/plain": [
       "[0,\n",
       " 93.75,\n",
       " 180.55555555555554,\n",
       " 267.3611111111111,\n",
       " 354.1666666666667,\n",
       " 440.97222222222223,\n",
       " 527.7777777777778,\n",
       " 614.5833333333334,\n",
       " 701.3888888888889,\n",
       " 93.75,\n",
       " 180.55555555555554,\n",
       " 267.3611111111111,\n",
       " 354.1666666666667,\n",
       " 440.97222222222223,\n",
       " 527.7777777777778,\n",
       " 614.5833333333334,\n",
       " 701.3888888888889,\n",
       " 93.75,\n",
       " 180.55555555555554,\n",
       " 267.3611111111111,\n",
       " 354.1666666666667,\n",
       " 440.97222222222223,\n",
       " 527.7777777777778,\n",
       " 614.5833333333334,\n",
       " 701.3888888888889,\n",
       " 93.75,\n",
       " 180.55555555555554,\n",
       " 267.3611111111111,\n",
       " 354.1666666666667,\n",
       " 440.97222222222223,\n",
       " 527.7777777777778,\n",
       " 614.5833333333334,\n",
       " 701.3888888888889,\n",
       " 93.75,\n",
       " 180.55555555555554,\n",
       " 267.3611111111111,\n",
       " 354.1666666666667,\n",
       " 440.97222222222223,\n",
       " 527.7777777777778,\n",
       " 614.5833333333334,\n",
       " 701.3888888888889]"
      ]
     },
     "execution_count": 171,
     "metadata": {},
     "output_type": "execute_result"
    }
   ],
   "source": [
    "accrued_interest_hist"
   ]
  },
  {
   "cell_type": "code",
   "execution_count": 172,
   "metadata": {},
   "outputs": [
    {
     "data": {
      "text/plain": [
       "[0,\n",
       " 4041500.0,\n",
       " 3541500.0,\n",
       " 3041500.0,\n",
       " 2541500.0,\n",
       " 2041500.0,\n",
       " 1541500.0,\n",
       " 1041500.0,\n",
       " 541500.0,\n",
       " 4041500.0,\n",
       " 3541500.0,\n",
       " 3041500.0,\n",
       " 2541500.0,\n",
       " 2041500.0,\n",
       " 1541500.0,\n",
       " 1041500.0,\n",
       " 541500.0,\n",
       " 4041500.0,\n",
       " 3541500.0,\n",
       " 3041500.0,\n",
       " 2541500.0,\n",
       " 2041500.0,\n",
       " 1541500.0,\n",
       " 1041500.0,\n",
       " 541500.0,\n",
       " 4041500.0,\n",
       " 3541500.0,\n",
       " 3041500.0,\n",
       " 2541500.0,\n",
       " 2041500.0,\n",
       " 1541500.0,\n",
       " 1041500.0,\n",
       " 541500.0,\n",
       " 4041500.0,\n",
       " 3541500.0,\n",
       " 3041500.0,\n",
       " 2541500.0,\n",
       " 2041500.0,\n",
       " 1541500.0,\n",
       " 1041500.0,\n",
       " 541500.0]"
      ]
     },
     "execution_count": 172,
     "metadata": {},
     "output_type": "execute_result"
    }
   ],
   "source": [
    "liquidity_hist"
   ]
  },
  {
   "cell_type": "code",
   "execution_count": 173,
   "metadata": {},
   "outputs": [],
   "source": [
    "len(date_hist), len(loan_hist), len(i_rate_hist), len(accrued_interest_hist)\n",
    "# date_hist_str = [day.strftime for day in date_hist]\n",
    "# date_hist_str = [i.strftime('%b-%d') for i in date_hist]\n",
    "date_hist_str = [i.strftime('%b-%d') for i in date_hist]"
   ]
  },
  {
   "cell_type": "code",
   "execution_count": 174,
   "metadata": {},
   "outputs": [
    {
     "data": {
      "text/plain": [
       "['Dec-31',\n",
       " 'Jan-01',\n",
       " 'Jan-02',\n",
       " 'Jan-03',\n",
       " 'Jan-04',\n",
       " 'Jan-05',\n",
       " 'Jan-06',\n",
       " 'Jan-07',\n",
       " 'Jan-08',\n",
       " 'Jan-01',\n",
       " 'Jan-02',\n",
       " 'Jan-03',\n",
       " 'Jan-04',\n",
       " 'Jan-05',\n",
       " 'Jan-06',\n",
       " 'Jan-07',\n",
       " 'Jan-08',\n",
       " 'Jan-01',\n",
       " 'Jan-02',\n",
       " 'Jan-03',\n",
       " 'Jan-04',\n",
       " 'Jan-05',\n",
       " 'Jan-06',\n",
       " 'Jan-07',\n",
       " 'Jan-08',\n",
       " 'Jan-01',\n",
       " 'Jan-02',\n",
       " 'Jan-03',\n",
       " 'Jan-04',\n",
       " 'Jan-05',\n",
       " 'Jan-06',\n",
       " 'Jan-07',\n",
       " 'Jan-08',\n",
       " 'Jan-01',\n",
       " 'Jan-02',\n",
       " 'Jan-03',\n",
       " 'Jan-04',\n",
       " 'Jan-05',\n",
       " 'Jan-06',\n",
       " 'Jan-07',\n",
       " 'Jan-08']"
      ]
     },
     "execution_count": 174,
     "metadata": {},
     "output_type": "execute_result"
    }
   ],
   "source": [
    "date_hist_str"
   ]
  },
  {
   "cell_type": "code",
   "execution_count": 175,
   "metadata": {},
   "outputs": [],
   "source": [
    "# df = pd.DataFrame(\n",
    "#     {'loan':loan_hist,\n",
    "#      'Interest Rate': i_rate_hist,\n",
    "#      'Interest Accrual': accrued_interest_hist,\n",
    "#      'Liquidity': liquidity_hist\n",
    "#     }, index = date_hist)\n",
    "\n",
    "df = pd.DataFrame(\n",
    "    {'loan':loan_hist,\n",
    "     'Interest Rate': i_rate_hist,\n",
    "     'Interest Accrual': accrued_interest_hist,\n",
    "     'Liquidity': liquidity_hist,\n",
    "     'Date': date_hist_str\n",
    "    })"
   ]
  },
  {
   "cell_type": "code",
   "execution_count": 176,
   "metadata": {},
   "outputs": [
    {
     "data": {
      "text/html": [
       "<div>\n",
       "<style scoped>\n",
       "    .dataframe tbody tr th:only-of-type {\n",
       "        vertical-align: middle;\n",
       "    }\n",
       "\n",
       "    .dataframe tbody tr th {\n",
       "        vertical-align: top;\n",
       "    }\n",
       "\n",
       "    .dataframe thead th {\n",
       "        text-align: right;\n",
       "    }\n",
       "</style>\n",
       "<table border=\"1\" class=\"dataframe\">\n",
       "  <thead>\n",
       "    <tr style=\"text-align: right;\">\n",
       "      <th></th>\n",
       "      <th>Date</th>\n",
       "      <th>Interest Accrual</th>\n",
       "      <th>Interest Rate</th>\n",
       "      <th>Liquidity</th>\n",
       "      <th>loan</th>\n",
       "    </tr>\n",
       "  </thead>\n",
       "  <tbody>\n",
       "    <tr>\n",
       "      <th>0</th>\n",
       "      <td>Dec-31</td>\n",
       "      <td>0.000000</td>\n",
       "      <td>0.0000</td>\n",
       "      <td>0.0</td>\n",
       "      <td>0</td>\n",
       "    </tr>\n",
       "    <tr>\n",
       "      <th>1</th>\n",
       "      <td>Jan-01</td>\n",
       "      <td>93.750000</td>\n",
       "      <td>0.0625</td>\n",
       "      <td>4041500.0</td>\n",
       "      <td>540000</td>\n",
       "    </tr>\n",
       "    <tr>\n",
       "      <th>2</th>\n",
       "      <td>Jan-02</td>\n",
       "      <td>180.555556</td>\n",
       "      <td>0.0625</td>\n",
       "      <td>3541500.0</td>\n",
       "      <td>1040000</td>\n",
       "    </tr>\n",
       "    <tr>\n",
       "      <th>3</th>\n",
       "      <td>Jan-03</td>\n",
       "      <td>267.361111</td>\n",
       "      <td>0.0625</td>\n",
       "      <td>3041500.0</td>\n",
       "      <td>1540000</td>\n",
       "    </tr>\n",
       "    <tr>\n",
       "      <th>4</th>\n",
       "      <td>Jan-04</td>\n",
       "      <td>354.166667</td>\n",
       "      <td>0.0625</td>\n",
       "      <td>2541500.0</td>\n",
       "      <td>2040000</td>\n",
       "    </tr>\n",
       "    <tr>\n",
       "      <th>5</th>\n",
       "      <td>Jan-05</td>\n",
       "      <td>440.972222</td>\n",
       "      <td>0.0625</td>\n",
       "      <td>2041500.0</td>\n",
       "      <td>2540000</td>\n",
       "    </tr>\n",
       "    <tr>\n",
       "      <th>6</th>\n",
       "      <td>Jan-06</td>\n",
       "      <td>527.777778</td>\n",
       "      <td>0.0625</td>\n",
       "      <td>1541500.0</td>\n",
       "      <td>3040000</td>\n",
       "    </tr>\n",
       "    <tr>\n",
       "      <th>7</th>\n",
       "      <td>Jan-07</td>\n",
       "      <td>614.583333</td>\n",
       "      <td>0.0625</td>\n",
       "      <td>1041500.0</td>\n",
       "      <td>3540000</td>\n",
       "    </tr>\n",
       "    <tr>\n",
       "      <th>8</th>\n",
       "      <td>Jan-08</td>\n",
       "      <td>701.388889</td>\n",
       "      <td>0.0625</td>\n",
       "      <td>541500.0</td>\n",
       "      <td>4040000</td>\n",
       "    </tr>\n",
       "    <tr>\n",
       "      <th>9</th>\n",
       "      <td>Jan-01</td>\n",
       "      <td>93.750000</td>\n",
       "      <td>0.0625</td>\n",
       "      <td>4041500.0</td>\n",
       "      <td>540000</td>\n",
       "    </tr>\n",
       "    <tr>\n",
       "      <th>10</th>\n",
       "      <td>Jan-02</td>\n",
       "      <td>180.555556</td>\n",
       "      <td>0.0625</td>\n",
       "      <td>3541500.0</td>\n",
       "      <td>1040000</td>\n",
       "    </tr>\n",
       "    <tr>\n",
       "      <th>11</th>\n",
       "      <td>Jan-03</td>\n",
       "      <td>267.361111</td>\n",
       "      <td>0.0625</td>\n",
       "      <td>3041500.0</td>\n",
       "      <td>1540000</td>\n",
       "    </tr>\n",
       "    <tr>\n",
       "      <th>12</th>\n",
       "      <td>Jan-04</td>\n",
       "      <td>354.166667</td>\n",
       "      <td>0.0625</td>\n",
       "      <td>2541500.0</td>\n",
       "      <td>2040000</td>\n",
       "    </tr>\n",
       "    <tr>\n",
       "      <th>13</th>\n",
       "      <td>Jan-05</td>\n",
       "      <td>440.972222</td>\n",
       "      <td>0.0625</td>\n",
       "      <td>2041500.0</td>\n",
       "      <td>2540000</td>\n",
       "    </tr>\n",
       "    <tr>\n",
       "      <th>14</th>\n",
       "      <td>Jan-06</td>\n",
       "      <td>527.777778</td>\n",
       "      <td>0.0625</td>\n",
       "      <td>1541500.0</td>\n",
       "      <td>3040000</td>\n",
       "    </tr>\n",
       "    <tr>\n",
       "      <th>15</th>\n",
       "      <td>Jan-07</td>\n",
       "      <td>614.583333</td>\n",
       "      <td>0.0625</td>\n",
       "      <td>1041500.0</td>\n",
       "      <td>3540000</td>\n",
       "    </tr>\n",
       "    <tr>\n",
       "      <th>16</th>\n",
       "      <td>Jan-08</td>\n",
       "      <td>701.388889</td>\n",
       "      <td>0.0625</td>\n",
       "      <td>541500.0</td>\n",
       "      <td>4040000</td>\n",
       "    </tr>\n",
       "    <tr>\n",
       "      <th>17</th>\n",
       "      <td>Jan-01</td>\n",
       "      <td>93.750000</td>\n",
       "      <td>0.0625</td>\n",
       "      <td>4041500.0</td>\n",
       "      <td>540000</td>\n",
       "    </tr>\n",
       "    <tr>\n",
       "      <th>18</th>\n",
       "      <td>Jan-02</td>\n",
       "      <td>180.555556</td>\n",
       "      <td>0.0625</td>\n",
       "      <td>3541500.0</td>\n",
       "      <td>1040000</td>\n",
       "    </tr>\n",
       "    <tr>\n",
       "      <th>19</th>\n",
       "      <td>Jan-03</td>\n",
       "      <td>267.361111</td>\n",
       "      <td>0.0625</td>\n",
       "      <td>3041500.0</td>\n",
       "      <td>1540000</td>\n",
       "    </tr>\n",
       "    <tr>\n",
       "      <th>20</th>\n",
       "      <td>Jan-04</td>\n",
       "      <td>354.166667</td>\n",
       "      <td>0.0625</td>\n",
       "      <td>2541500.0</td>\n",
       "      <td>2040000</td>\n",
       "    </tr>\n",
       "    <tr>\n",
       "      <th>21</th>\n",
       "      <td>Jan-05</td>\n",
       "      <td>440.972222</td>\n",
       "      <td>0.0625</td>\n",
       "      <td>2041500.0</td>\n",
       "      <td>2540000</td>\n",
       "    </tr>\n",
       "    <tr>\n",
       "      <th>22</th>\n",
       "      <td>Jan-06</td>\n",
       "      <td>527.777778</td>\n",
       "      <td>0.0625</td>\n",
       "      <td>1541500.0</td>\n",
       "      <td>3040000</td>\n",
       "    </tr>\n",
       "    <tr>\n",
       "      <th>23</th>\n",
       "      <td>Jan-07</td>\n",
       "      <td>614.583333</td>\n",
       "      <td>0.0625</td>\n",
       "      <td>1041500.0</td>\n",
       "      <td>3540000</td>\n",
       "    </tr>\n",
       "    <tr>\n",
       "      <th>24</th>\n",
       "      <td>Jan-08</td>\n",
       "      <td>701.388889</td>\n",
       "      <td>0.0625</td>\n",
       "      <td>541500.0</td>\n",
       "      <td>4040000</td>\n",
       "    </tr>\n",
       "    <tr>\n",
       "      <th>25</th>\n",
       "      <td>Jan-01</td>\n",
       "      <td>93.750000</td>\n",
       "      <td>0.0625</td>\n",
       "      <td>4041500.0</td>\n",
       "      <td>540000</td>\n",
       "    </tr>\n",
       "    <tr>\n",
       "      <th>26</th>\n",
       "      <td>Jan-02</td>\n",
       "      <td>180.555556</td>\n",
       "      <td>0.0625</td>\n",
       "      <td>3541500.0</td>\n",
       "      <td>1040000</td>\n",
       "    </tr>\n",
       "    <tr>\n",
       "      <th>27</th>\n",
       "      <td>Jan-03</td>\n",
       "      <td>267.361111</td>\n",
       "      <td>0.0625</td>\n",
       "      <td>3041500.0</td>\n",
       "      <td>1540000</td>\n",
       "    </tr>\n",
       "    <tr>\n",
       "      <th>28</th>\n",
       "      <td>Jan-04</td>\n",
       "      <td>354.166667</td>\n",
       "      <td>0.0625</td>\n",
       "      <td>2541500.0</td>\n",
       "      <td>2040000</td>\n",
       "    </tr>\n",
       "    <tr>\n",
       "      <th>29</th>\n",
       "      <td>Jan-05</td>\n",
       "      <td>440.972222</td>\n",
       "      <td>0.0625</td>\n",
       "      <td>2041500.0</td>\n",
       "      <td>2540000</td>\n",
       "    </tr>\n",
       "    <tr>\n",
       "      <th>30</th>\n",
       "      <td>Jan-06</td>\n",
       "      <td>527.777778</td>\n",
       "      <td>0.0625</td>\n",
       "      <td>1541500.0</td>\n",
       "      <td>3040000</td>\n",
       "    </tr>\n",
       "    <tr>\n",
       "      <th>31</th>\n",
       "      <td>Jan-07</td>\n",
       "      <td>614.583333</td>\n",
       "      <td>0.0625</td>\n",
       "      <td>1041500.0</td>\n",
       "      <td>3540000</td>\n",
       "    </tr>\n",
       "    <tr>\n",
       "      <th>32</th>\n",
       "      <td>Jan-08</td>\n",
       "      <td>701.388889</td>\n",
       "      <td>0.0625</td>\n",
       "      <td>541500.0</td>\n",
       "      <td>4040000</td>\n",
       "    </tr>\n",
       "    <tr>\n",
       "      <th>33</th>\n",
       "      <td>Jan-01</td>\n",
       "      <td>93.750000</td>\n",
       "      <td>0.0625</td>\n",
       "      <td>4041500.0</td>\n",
       "      <td>540000</td>\n",
       "    </tr>\n",
       "    <tr>\n",
       "      <th>34</th>\n",
       "      <td>Jan-02</td>\n",
       "      <td>180.555556</td>\n",
       "      <td>0.0625</td>\n",
       "      <td>3541500.0</td>\n",
       "      <td>1040000</td>\n",
       "    </tr>\n",
       "    <tr>\n",
       "      <th>35</th>\n",
       "      <td>Jan-03</td>\n",
       "      <td>267.361111</td>\n",
       "      <td>0.0625</td>\n",
       "      <td>3041500.0</td>\n",
       "      <td>1540000</td>\n",
       "    </tr>\n",
       "    <tr>\n",
       "      <th>36</th>\n",
       "      <td>Jan-04</td>\n",
       "      <td>354.166667</td>\n",
       "      <td>0.0625</td>\n",
       "      <td>2541500.0</td>\n",
       "      <td>2040000</td>\n",
       "    </tr>\n",
       "    <tr>\n",
       "      <th>37</th>\n",
       "      <td>Jan-05</td>\n",
       "      <td>440.972222</td>\n",
       "      <td>0.0625</td>\n",
       "      <td>2041500.0</td>\n",
       "      <td>2540000</td>\n",
       "    </tr>\n",
       "    <tr>\n",
       "      <th>38</th>\n",
       "      <td>Jan-06</td>\n",
       "      <td>527.777778</td>\n",
       "      <td>0.0625</td>\n",
       "      <td>1541500.0</td>\n",
       "      <td>3040000</td>\n",
       "    </tr>\n",
       "    <tr>\n",
       "      <th>39</th>\n",
       "      <td>Jan-07</td>\n",
       "      <td>614.583333</td>\n",
       "      <td>0.0625</td>\n",
       "      <td>1041500.0</td>\n",
       "      <td>3540000</td>\n",
       "    </tr>\n",
       "    <tr>\n",
       "      <th>40</th>\n",
       "      <td>Jan-08</td>\n",
       "      <td>701.388889</td>\n",
       "      <td>0.0625</td>\n",
       "      <td>541500.0</td>\n",
       "      <td>4040000</td>\n",
       "    </tr>\n",
       "  </tbody>\n",
       "</table>\n",
       "</div>"
      ],
      "text/plain": [
       "      Date  Interest Accrual  Interest Rate  Liquidity     loan\n",
       "0   Dec-31          0.000000         0.0000        0.0        0\n",
       "1   Jan-01         93.750000         0.0625  4041500.0   540000\n",
       "2   Jan-02        180.555556         0.0625  3541500.0  1040000\n",
       "3   Jan-03        267.361111         0.0625  3041500.0  1540000\n",
       "4   Jan-04        354.166667         0.0625  2541500.0  2040000\n",
       "5   Jan-05        440.972222         0.0625  2041500.0  2540000\n",
       "6   Jan-06        527.777778         0.0625  1541500.0  3040000\n",
       "7   Jan-07        614.583333         0.0625  1041500.0  3540000\n",
       "8   Jan-08        701.388889         0.0625   541500.0  4040000\n",
       "9   Jan-01         93.750000         0.0625  4041500.0   540000\n",
       "10  Jan-02        180.555556         0.0625  3541500.0  1040000\n",
       "11  Jan-03        267.361111         0.0625  3041500.0  1540000\n",
       "12  Jan-04        354.166667         0.0625  2541500.0  2040000\n",
       "13  Jan-05        440.972222         0.0625  2041500.0  2540000\n",
       "14  Jan-06        527.777778         0.0625  1541500.0  3040000\n",
       "15  Jan-07        614.583333         0.0625  1041500.0  3540000\n",
       "16  Jan-08        701.388889         0.0625   541500.0  4040000\n",
       "17  Jan-01         93.750000         0.0625  4041500.0   540000\n",
       "18  Jan-02        180.555556         0.0625  3541500.0  1040000\n",
       "19  Jan-03        267.361111         0.0625  3041500.0  1540000\n",
       "20  Jan-04        354.166667         0.0625  2541500.0  2040000\n",
       "21  Jan-05        440.972222         0.0625  2041500.0  2540000\n",
       "22  Jan-06        527.777778         0.0625  1541500.0  3040000\n",
       "23  Jan-07        614.583333         0.0625  1041500.0  3540000\n",
       "24  Jan-08        701.388889         0.0625   541500.0  4040000\n",
       "25  Jan-01         93.750000         0.0625  4041500.0   540000\n",
       "26  Jan-02        180.555556         0.0625  3541500.0  1040000\n",
       "27  Jan-03        267.361111         0.0625  3041500.0  1540000\n",
       "28  Jan-04        354.166667         0.0625  2541500.0  2040000\n",
       "29  Jan-05        440.972222         0.0625  2041500.0  2540000\n",
       "30  Jan-06        527.777778         0.0625  1541500.0  3040000\n",
       "31  Jan-07        614.583333         0.0625  1041500.0  3540000\n",
       "32  Jan-08        701.388889         0.0625   541500.0  4040000\n",
       "33  Jan-01         93.750000         0.0625  4041500.0   540000\n",
       "34  Jan-02        180.555556         0.0625  3541500.0  1040000\n",
       "35  Jan-03        267.361111         0.0625  3041500.0  1540000\n",
       "36  Jan-04        354.166667         0.0625  2541500.0  2040000\n",
       "37  Jan-05        440.972222         0.0625  2041500.0  2540000\n",
       "38  Jan-06        527.777778         0.0625  1541500.0  3040000\n",
       "39  Jan-07        614.583333         0.0625  1041500.0  3540000\n",
       "40  Jan-08        701.388889         0.0625   541500.0  4040000"
      ]
     },
     "execution_count": 176,
     "metadata": {},
     "output_type": "execute_result"
    }
   ],
   "source": [
    "df"
   ]
  },
  {
   "cell_type": "code",
   "execution_count": null,
   "metadata": {},
   "outputs": [],
   "source": []
  },
  {
   "cell_type": "code",
   "execution_count": 177,
   "metadata": {},
   "outputs": [
    {
     "ename": "ValueError",
     "evalue": "scatter requires x column to be numeric",
     "output_type": "error",
     "traceback": [
      "\u001b[0;31m---------------------------------------------------------------------------\u001b[0m",
      "\u001b[0;31mValueError\u001b[0m                                Traceback (most recent call last)",
      "\u001b[0;32m<ipython-input-177-444f84fcecab>\u001b[0m in \u001b[0;36m<module>\u001b[0;34m\u001b[0m\n\u001b[1;32m      1\u001b[0m \u001b[0mget_ipython\u001b[0m\u001b[0;34m(\u001b[0m\u001b[0;34m)\u001b[0m\u001b[0;34m.\u001b[0m\u001b[0mrun_line_magic\u001b[0m\u001b[0;34m(\u001b[0m\u001b[0;34m'matplotlib'\u001b[0m\u001b[0;34m,\u001b[0m \u001b[0;34m'inline'\u001b[0m\u001b[0;34m)\u001b[0m\u001b[0;34m\u001b[0m\u001b[0;34m\u001b[0m\u001b[0m\n\u001b[1;32m      2\u001b[0m \u001b[0;31m# plt.scatter(loan_hist, date_hist)\u001b[0m\u001b[0;34m\u001b[0m\u001b[0;34m\u001b[0m\u001b[0;34m\u001b[0m\u001b[0m\n\u001b[0;32m----> 3\u001b[0;31m \u001b[0mdf\u001b[0m\u001b[0;34m.\u001b[0m\u001b[0mplot\u001b[0m\u001b[0;34m(\u001b[0m\u001b[0mkind\u001b[0m\u001b[0;34m=\u001b[0m\u001b[0;34m'scatter'\u001b[0m\u001b[0;34m,\u001b[0m\u001b[0mx\u001b[0m\u001b[0;34m=\u001b[0m\u001b[0;34m'Date'\u001b[0m\u001b[0;34m,\u001b[0m\u001b[0my\u001b[0m\u001b[0;34m=\u001b[0m\u001b[0;34m'Liquidity'\u001b[0m\u001b[0;34m,\u001b[0m\u001b[0mcolor\u001b[0m\u001b[0;34m=\u001b[0m\u001b[0;34m'red'\u001b[0m\u001b[0;34m)\u001b[0m\u001b[0;34m\u001b[0m\u001b[0;34m\u001b[0m\u001b[0m\n\u001b[0m\u001b[1;32m      4\u001b[0m \u001b[0mplt\u001b[0m\u001b[0;34m.\u001b[0m\u001b[0mshow\u001b[0m\u001b[0;34m(\u001b[0m\u001b[0;34m)\u001b[0m\u001b[0;34m\u001b[0m\u001b[0;34m\u001b[0m\u001b[0m\n",
      "\u001b[0;32m/anaconda3/lib/python3.6/site-packages/pandas/plotting/_core.py\u001b[0m in \u001b[0;36m__call__\u001b[0;34m(self, x, y, kind, ax, subplots, sharex, sharey, layout, figsize, use_index, title, grid, legend, style, logx, logy, loglog, xticks, yticks, xlim, ylim, rot, fontsize, colormap, table, yerr, xerr, secondary_y, sort_columns, **kwds)\u001b[0m\n\u001b[1;32m   2675\u001b[0m                           \u001b[0mfontsize\u001b[0m\u001b[0;34m=\u001b[0m\u001b[0mfontsize\u001b[0m\u001b[0;34m,\u001b[0m \u001b[0mcolormap\u001b[0m\u001b[0;34m=\u001b[0m\u001b[0mcolormap\u001b[0m\u001b[0;34m,\u001b[0m \u001b[0mtable\u001b[0m\u001b[0;34m=\u001b[0m\u001b[0mtable\u001b[0m\u001b[0;34m,\u001b[0m\u001b[0;34m\u001b[0m\u001b[0;34m\u001b[0m\u001b[0m\n\u001b[1;32m   2676\u001b[0m                           \u001b[0myerr\u001b[0m\u001b[0;34m=\u001b[0m\u001b[0myerr\u001b[0m\u001b[0;34m,\u001b[0m \u001b[0mxerr\u001b[0m\u001b[0;34m=\u001b[0m\u001b[0mxerr\u001b[0m\u001b[0;34m,\u001b[0m \u001b[0msecondary_y\u001b[0m\u001b[0;34m=\u001b[0m\u001b[0msecondary_y\u001b[0m\u001b[0;34m,\u001b[0m\u001b[0;34m\u001b[0m\u001b[0;34m\u001b[0m\u001b[0m\n\u001b[0;32m-> 2677\u001b[0;31m                           sort_columns=sort_columns, **kwds)\n\u001b[0m\u001b[1;32m   2678\u001b[0m     \u001b[0m__call__\u001b[0m\u001b[0;34m.\u001b[0m\u001b[0m__doc__\u001b[0m \u001b[0;34m=\u001b[0m \u001b[0mplot_frame\u001b[0m\u001b[0;34m.\u001b[0m\u001b[0m__doc__\u001b[0m\u001b[0;34m\u001b[0m\u001b[0;34m\u001b[0m\u001b[0m\n\u001b[1;32m   2679\u001b[0m \u001b[0;34m\u001b[0m\u001b[0m\n",
      "\u001b[0;32m/anaconda3/lib/python3.6/site-packages/pandas/plotting/_core.py\u001b[0m in \u001b[0;36mplot_frame\u001b[0;34m(data, x, y, kind, ax, subplots, sharex, sharey, layout, figsize, use_index, title, grid, legend, style, logx, logy, loglog, xticks, yticks, xlim, ylim, rot, fontsize, colormap, table, yerr, xerr, secondary_y, sort_columns, **kwds)\u001b[0m\n\u001b[1;32m   1900\u001b[0m                  \u001b[0myerr\u001b[0m\u001b[0;34m=\u001b[0m\u001b[0myerr\u001b[0m\u001b[0;34m,\u001b[0m \u001b[0mxerr\u001b[0m\u001b[0;34m=\u001b[0m\u001b[0mxerr\u001b[0m\u001b[0;34m,\u001b[0m\u001b[0;34m\u001b[0m\u001b[0;34m\u001b[0m\u001b[0m\n\u001b[1;32m   1901\u001b[0m                  \u001b[0msecondary_y\u001b[0m\u001b[0;34m=\u001b[0m\u001b[0msecondary_y\u001b[0m\u001b[0;34m,\u001b[0m \u001b[0msort_columns\u001b[0m\u001b[0;34m=\u001b[0m\u001b[0msort_columns\u001b[0m\u001b[0;34m,\u001b[0m\u001b[0;34m\u001b[0m\u001b[0;34m\u001b[0m\u001b[0m\n\u001b[0;32m-> 1902\u001b[0;31m                  **kwds)\n\u001b[0m\u001b[1;32m   1903\u001b[0m \u001b[0;34m\u001b[0m\u001b[0m\n\u001b[1;32m   1904\u001b[0m \u001b[0;34m\u001b[0m\u001b[0m\n",
      "\u001b[0;32m/anaconda3/lib/python3.6/site-packages/pandas/plotting/_core.py\u001b[0m in \u001b[0;36m_plot\u001b[0;34m(data, x, y, subplots, ax, kind, **kwds)\u001b[0m\n\u001b[1;32m   1685\u001b[0m         \u001b[0;32mif\u001b[0m \u001b[0misinstance\u001b[0m\u001b[0;34m(\u001b[0m\u001b[0mdata\u001b[0m\u001b[0;34m,\u001b[0m \u001b[0mDataFrame\u001b[0m\u001b[0;34m)\u001b[0m\u001b[0;34m:\u001b[0m\u001b[0;34m\u001b[0m\u001b[0;34m\u001b[0m\u001b[0m\n\u001b[1;32m   1686\u001b[0m             plot_obj = klass(data, x=x, y=y, subplots=subplots, ax=ax,\n\u001b[0;32m-> 1687\u001b[0;31m                              kind=kind, **kwds)\n\u001b[0m\u001b[1;32m   1688\u001b[0m         \u001b[0;32melse\u001b[0m\u001b[0;34m:\u001b[0m\u001b[0;34m\u001b[0m\u001b[0;34m\u001b[0m\u001b[0m\n\u001b[1;32m   1689\u001b[0m             raise ValueError(\"plot kind %r can only be used for data frames\"\n",
      "\u001b[0;32m/anaconda3/lib/python3.6/site-packages/pandas/plotting/_core.py\u001b[0m in \u001b[0;36m__init__\u001b[0;34m(self, data, x, y, s, c, **kwargs)\u001b[0m\n\u001b[1;32m    835\u001b[0m             \u001b[0;31m# the handling of this argument later\u001b[0m\u001b[0;34m\u001b[0m\u001b[0;34m\u001b[0m\u001b[0;34m\u001b[0m\u001b[0m\n\u001b[1;32m    836\u001b[0m             \u001b[0ms\u001b[0m \u001b[0;34m=\u001b[0m \u001b[0;36m20\u001b[0m\u001b[0;34m\u001b[0m\u001b[0;34m\u001b[0m\u001b[0m\n\u001b[0;32m--> 837\u001b[0;31m         \u001b[0msuper\u001b[0m\u001b[0;34m(\u001b[0m\u001b[0mScatterPlot\u001b[0m\u001b[0;34m,\u001b[0m \u001b[0mself\u001b[0m\u001b[0;34m)\u001b[0m\u001b[0;34m.\u001b[0m\u001b[0m__init__\u001b[0m\u001b[0;34m(\u001b[0m\u001b[0mdata\u001b[0m\u001b[0;34m,\u001b[0m \u001b[0mx\u001b[0m\u001b[0;34m,\u001b[0m \u001b[0my\u001b[0m\u001b[0;34m,\u001b[0m \u001b[0ms\u001b[0m\u001b[0;34m=\u001b[0m\u001b[0ms\u001b[0m\u001b[0;34m,\u001b[0m \u001b[0;34m**\u001b[0m\u001b[0mkwargs\u001b[0m\u001b[0;34m)\u001b[0m\u001b[0;34m\u001b[0m\u001b[0;34m\u001b[0m\u001b[0m\n\u001b[0m\u001b[1;32m    838\u001b[0m         \u001b[0;32mif\u001b[0m \u001b[0mis_integer\u001b[0m\u001b[0;34m(\u001b[0m\u001b[0mc\u001b[0m\u001b[0;34m)\u001b[0m \u001b[0;32mand\u001b[0m \u001b[0;32mnot\u001b[0m \u001b[0mself\u001b[0m\u001b[0;34m.\u001b[0m\u001b[0mdata\u001b[0m\u001b[0;34m.\u001b[0m\u001b[0mcolumns\u001b[0m\u001b[0;34m.\u001b[0m\u001b[0mholds_integer\u001b[0m\u001b[0;34m(\u001b[0m\u001b[0;34m)\u001b[0m\u001b[0;34m:\u001b[0m\u001b[0;34m\u001b[0m\u001b[0;34m\u001b[0m\u001b[0m\n\u001b[1;32m    839\u001b[0m             \u001b[0mc\u001b[0m \u001b[0;34m=\u001b[0m \u001b[0mself\u001b[0m\u001b[0;34m.\u001b[0m\u001b[0mdata\u001b[0m\u001b[0;34m.\u001b[0m\u001b[0mcolumns\u001b[0m\u001b[0;34m[\u001b[0m\u001b[0mc\u001b[0m\u001b[0;34m]\u001b[0m\u001b[0;34m\u001b[0m\u001b[0;34m\u001b[0m\u001b[0m\n",
      "\u001b[0;32m/anaconda3/lib/python3.6/site-packages/pandas/plotting/_core.py\u001b[0m in \u001b[0;36m__init__\u001b[0;34m(self, data, x, y, **kwargs)\u001b[0m\n\u001b[1;32m    810\u001b[0m             \u001b[0my\u001b[0m \u001b[0;34m=\u001b[0m \u001b[0mself\u001b[0m\u001b[0;34m.\u001b[0m\u001b[0mdata\u001b[0m\u001b[0;34m.\u001b[0m\u001b[0mcolumns\u001b[0m\u001b[0;34m[\u001b[0m\u001b[0my\u001b[0m\u001b[0;34m]\u001b[0m\u001b[0;34m\u001b[0m\u001b[0;34m\u001b[0m\u001b[0m\n\u001b[1;32m    811\u001b[0m         \u001b[0;32mif\u001b[0m \u001b[0mlen\u001b[0m\u001b[0;34m(\u001b[0m\u001b[0mself\u001b[0m\u001b[0;34m.\u001b[0m\u001b[0mdata\u001b[0m\u001b[0;34m[\u001b[0m\u001b[0mx\u001b[0m\u001b[0;34m]\u001b[0m\u001b[0;34m.\u001b[0m\u001b[0m_get_numeric_data\u001b[0m\u001b[0;34m(\u001b[0m\u001b[0;34m)\u001b[0m\u001b[0;34m)\u001b[0m \u001b[0;34m==\u001b[0m \u001b[0;36m0\u001b[0m\u001b[0;34m:\u001b[0m\u001b[0;34m\u001b[0m\u001b[0;34m\u001b[0m\u001b[0m\n\u001b[0;32m--> 812\u001b[0;31m             \u001b[0;32mraise\u001b[0m \u001b[0mValueError\u001b[0m\u001b[0;34m(\u001b[0m\u001b[0mself\u001b[0m\u001b[0;34m.\u001b[0m\u001b[0m_kind\u001b[0m \u001b[0;34m+\u001b[0m \u001b[0;34m' requires x column to be numeric'\u001b[0m\u001b[0;34m)\u001b[0m\u001b[0;34m\u001b[0m\u001b[0;34m\u001b[0m\u001b[0m\n\u001b[0m\u001b[1;32m    813\u001b[0m         \u001b[0;32mif\u001b[0m \u001b[0mlen\u001b[0m\u001b[0;34m(\u001b[0m\u001b[0mself\u001b[0m\u001b[0;34m.\u001b[0m\u001b[0mdata\u001b[0m\u001b[0;34m[\u001b[0m\u001b[0my\u001b[0m\u001b[0;34m]\u001b[0m\u001b[0;34m.\u001b[0m\u001b[0m_get_numeric_data\u001b[0m\u001b[0;34m(\u001b[0m\u001b[0;34m)\u001b[0m\u001b[0;34m)\u001b[0m \u001b[0;34m==\u001b[0m \u001b[0;36m0\u001b[0m\u001b[0;34m:\u001b[0m\u001b[0;34m\u001b[0m\u001b[0;34m\u001b[0m\u001b[0m\n\u001b[1;32m    814\u001b[0m             \u001b[0;32mraise\u001b[0m \u001b[0mValueError\u001b[0m\u001b[0;34m(\u001b[0m\u001b[0mself\u001b[0m\u001b[0;34m.\u001b[0m\u001b[0m_kind\u001b[0m \u001b[0;34m+\u001b[0m \u001b[0;34m' requires y column to be numeric'\u001b[0m\u001b[0;34m)\u001b[0m\u001b[0;34m\u001b[0m\u001b[0;34m\u001b[0m\u001b[0m\n",
      "\u001b[0;31mValueError\u001b[0m: scatter requires x column to be numeric"
     ]
    }
   ],
   "source": [
    "%matplotlib inline\n",
    "# plt.scatter(loan_hist, date_hist)\n",
    "df.plot(kind='scatter',x='Date',y='Liquidity',color='red')\n",
    "plt.show()"
   ]
  },
  {
   "cell_type": "code",
   "execution_count": null,
   "metadata": {},
   "outputs": [],
   "source": [
    "ABC_loan"
   ]
  },
  {
   "cell_type": "code",
   "execution_count": null,
   "metadata": {},
   "outputs": [],
   "source": [
    "excess_availability(ABC_collateral, ABC_loan)"
   ]
  },
  {
   "cell_type": "code",
   "execution_count": null,
   "metadata": {},
   "outputs": [],
   "source": []
  },
  {
   "cell_type": "code",
   "execution_count": null,
   "metadata": {},
   "outputs": [],
   "source": []
  },
  {
   "cell_type": "code",
   "execution_count": null,
   "metadata": {},
   "outputs": [],
   "source": []
  }
 ],
 "metadata": {
  "kernelspec": {
   "display_name": "Python 3",
   "language": "python",
   "name": "python3"
  },
  "language_info": {
   "codemirror_mode": {
    "name": "ipython",
    "version": 3
   },
   "file_extension": ".py",
   "mimetype": "text/x-python",
   "name": "python",
   "nbconvert_exporter": "python",
   "pygments_lexer": "ipython3",
   "version": "3.6.8"
  }
 },
 "nbformat": 4,
 "nbformat_minor": 2
}
