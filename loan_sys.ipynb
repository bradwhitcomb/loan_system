{
 "cells": [
  {
   "cell_type": "markdown",
   "metadata": {},
   "source": [
    "# Asset-based lending: \"a primer in python\"<br>\n",
    ">## <font color = green>Asset_based lending (ABL) is an efficient and flexible technique to finance working capital especially for leveraged businesses that need to manage cash.  It works quite well for noninvestment grade manufacturers and distributors that want to finance the growth of inventories and accounts.  In this notebook I've written a simple ABL platform in python to illustrate ABL's capabilities.\n",
    "</font>\n",
    "\n",
    ">__[ABL from Wikipedia](https://en.wikipedia.org/wiki/Asset-based_lending)__\n",
    "\n",
    "\n"
   ]
  },
  {
   "cell_type": "markdown",
   "metadata": {},
   "source": [
    ">## <font color = 'blue'>Managing cash drives ABL. For simplicity sake we are only using accounts receivable as collateral..Here are a few critical points to understand about our model:\n",
    ">*  The model track three primary cash flows:\n",
    "    * <b>Presentments.</b>The line of credit funds checks presented for payment, outgoing wires and ACH transfers out.  In our model the method loan.draw(presentments) is used to fund cash outflows and results in a increase on the line of credit.\n",
    "    * <b>Cash collections</b>.  The function, sales_collections(collateral_object, loan_object, collections) takes cash collections and uses it to reduce the loan balance and the accounts receivable.\n",
    "    * <b>New Sales</b>.  The method Accounts_receivable.new_sales(sales) increase the accounts receivable\n",
    "*  The model also tracks two stock accounts:\n",
    "    * <b>Loan account.</b>  The loan consisting of the commited facility and the loan balance.  \n",
    "    * <b>Collateral account.</b>  The total amount of accounts receivable.\n",
    "* Lastly and most importantly the model provides a tool to company management and lending risk officers to monitor and track liquidity\n",
    "    * <b>Availability.</b>  Calculates the maximun loan value of the collateral.  The class method Accounts_receivable.loan_availability calculates the loan value of the collateral\n",
    "    * <b>Excess Availability.</b>  The function excess_availability(collateral_object, loan_object) nets the value of the collateral against the outstanding loan with the difference being excess availability.  Almost every method and function in our model impacts this number</>\n"
   ]
  },
  {
   "cell_type": "markdown",
   "metadata": {},
   "source": [
    "### Step one.  import our dependencies"
   ]
  },
  {
   "cell_type": "code",
   "execution_count": 63,
   "metadata": {},
   "outputs": [],
   "source": [
    "from datetime import date\n",
    "import pandas as pd\n",
    "import matplotlib.pyplot as plt\n"
   ]
  },
  {
   "cell_type": "code",
   "execution_count": 64,
   "metadata": {},
   "outputs": [],
   "source": [
    "from loan_sys_objects import Customer, Loan, Accounts_receivable, Interest\n",
    "from loan_sys_functions import excess_availability, sales_collections, fund_presentments, daily_build\n",
    "from loan_sys_functions import loan_hist, date_hist_str, i_rate_hist, accrued_interest_hist, liquidity_hist"
   ]
  },
  {
   "cell_type": "markdown",
   "metadata": {},
   "source": [
    "### Step two.  Create an instance of the following:\n",
    "* Customer object\n",
    "* Loan object\n",
    "* Accounts_receivable object\n",
    "* Interest object\n"
   ]
  },
  {
   "cell_type": "code",
   "execution_count": 65,
   "metadata": {},
   "outputs": [],
   "source": [
    "ABC_mfg = Customer('ABC_mfg', 'abc@gmail.com', 'Atlanta')\n",
    "ABC_loan = Loan(5000000, 0)\n",
    "ABC_collateral = Accounts_receivable(6000000, 600000, .85)\n",
    "ABC_interest = Interest(.03, .0325)"
   ]
  },
  {
   "cell_type": "markdown",
   "metadata": {},
   "source": [
    "#### Verify the customer object:"
   ]
  },
  {
   "cell_type": "code",
   "execution_count": 66,
   "metadata": {},
   "outputs": [
    {
     "data": {
      "text/plain": [
       "Customer name: ABC_mfg\n",
       "Customer email: abc@gmail.com\n",
       "Customer Location: Atlanta "
      ]
     },
     "execution_count": 66,
     "metadata": {},
     "output_type": "execute_result"
    }
   ],
   "source": [
    "ABC_mfg"
   ]
  },
  {
   "cell_type": "markdown",
   "metadata": {},
   "source": [
    "#### Verify the loan object:"
   ]
  },
  {
   "cell_type": "code",
   "execution_count": 67,
   "metadata": {},
   "outputs": [
    {
     "data": {
      "text/plain": [
       "Commitment:$5,000,000\n",
       "Loan: $0"
      ]
     },
     "execution_count": 67,
     "metadata": {},
     "output_type": "execute_result"
    }
   ],
   "source": [
    "ABC_loan"
   ]
  },
  {
   "cell_type": "markdown",
   "metadata": {},
   "source": [
    "#### Verify the collateral object:"
   ]
  },
  {
   "cell_type": "code",
   "execution_count": 68,
   "metadata": {},
   "outputs": [
    {
     "data": {
      "text/plain": [
       "Total Aging:$6,000,000\n",
       "Past Dues: $600,000\n",
       "Advance Rate: 85.00%"
      ]
     },
     "execution_count": 68,
     "metadata": {},
     "output_type": "execute_result"
    }
   ],
   "source": [
    "ABC_collateral"
   ]
  },
  {
   "cell_type": "markdown",
   "metadata": {},
   "source": [
    "#### Verify the interest object"
   ]
  },
  {
   "cell_type": "code",
   "execution_count": 69,
   "metadata": {},
   "outputs": [
    {
     "data": {
      "text/plain": [
       "Base Rate:3.00%\n",
       "Margin: 3.25%"
      ]
     },
     "execution_count": 69,
     "metadata": {},
     "output_type": "execute_result"
    }
   ],
   "source": [
    "ABC_interest"
   ]
  },
  {
   "cell_type": "code",
   "execution_count": 70,
   "metadata": {},
   "outputs": [
    {
     "data": {
      "text/plain": [
       "'The interest rate is the sum of the base rate plus the margin: 6.25%'"
      ]
     },
     "execution_count": 70,
     "metadata": {},
     "output_type": "execute_result"
    }
   ],
   "source": [
    "f'The interest rate is the sum of the base rate plus the margin: {ABC_interest.interest_rate():.2%}'"
   ]
  },
  {
   "cell_type": "markdown",
   "metadata": {},
   "source": [
    "### <font color = green > To summarize:\n",
    "* ABC mfg has a commited credit facility secured by the company's accounts receivable.  The initial loan balance is $0.\n",
    "* ABC mfg has pledged 6,000,000 of accounts to the lender but the lender but determined that past due accounts are 600,000 and will lend 85 percent of the eligible accounts.\n",
    "* The interest rate consists of two parts, a base rate and a margin.  The base rate is typically tied to an index such as 90 libor, US prime rate or some similar market rate.  The number is variable, that is it can fluctuate with the market.  The lenders margin is 3.25 percent above the index.  This percentage is contractually fixed.</font>\n",
    "\n"
   ]
  },
  {
   "cell_type": "markdown",
   "metadata": {},
   "source": [
    "> #### An important concept is the term \"availability\".  For many borrowers excess availability is synonomous with liquidity"
   ]
  },
  {
   "cell_type": "code",
   "execution_count": 71,
   "metadata": {},
   "outputs": [
    {
     "data": {
      "text/plain": [
       "'Collateral Availability totals $4,590,000.00.  This equates to gross acounts minus past dues and subsequently reduced by the advance rate of 85%'"
      ]
     },
     "execution_count": 71,
     "metadata": {},
     "output_type": "execute_result"
    }
   ],
   "source": [
    "collateral_availability = ABC_collateral.loan_availability()\n",
    "f'Collateral Availability totals ${collateral_availability:,.2f}.  This equates to gross acounts minus past dues and subsequently reduced by the advance rate of 85%'"
   ]
  },
  {
   "cell_type": "code",
   "execution_count": 72,
   "metadata": {},
   "outputs": [
    {
     "data": {
      "text/plain": [
       "'Excess Availability totals $4,590,000.00.  Excess availability equates to collateral availability less the loan balance'"
      ]
     },
     "execution_count": 72,
     "metadata": {},
     "output_type": "execute_result"
    }
   ],
   "source": [
    "excess_avail = excess_availability(ABC_collateral, ABC_loan)\n",
    "f'Excess Availability totals ${excess_avail:,.2f}.  Excess availability equates to collateral availability less the loan balance'"
   ]
  },
  {
   "cell_type": "markdown",
   "metadata": {},
   "source": [
    "### So far, excess Availability is the same as total Availability that's true because the borrower has a zero loan balance.  Lets borrow some money and see what happens"
   ]
  },
  {
   "cell_type": "markdown",
   "metadata": {},
   "source": [
    "#### We will call the loan_draw method on the loan object to make a $50,000 loan advance"
   ]
  },
  {
   "cell_type": "code",
   "execution_count": 73,
   "metadata": {},
   "outputs": [
    {
     "data": {
      "text/plain": [
       "'The borrower draws down $50,000 and the new loan balance is $50,000.00'"
      ]
     },
     "execution_count": 73,
     "metadata": {},
     "output_type": "execute_result"
    }
   ],
   "source": [
    "f\"The borrower draws down $50,000 and the new loan balance is ${ABC_loan.loan_draw(50000):,.2f}\""
   ]
  },
  {
   "cell_type": "code",
   "execution_count": 74,
   "metadata": {},
   "outputs": [
    {
     "data": {
      "text/plain": [
       "' After the draw the excess availability has dropped $50,000 to $4,540,000.00'"
      ]
     },
     "execution_count": 74,
     "metadata": {},
     "output_type": "execute_result"
    }
   ],
   "source": [
    "f\" After the draw the excess availability has dropped $50,000 to ${excess_availability(ABC_collateral, ABC_loan):,.2f}\""
   ]
  },
  {
   "cell_type": "code",
   "execution_count": 75,
   "metadata": {},
   "outputs": [
    {
     "data": {
      "text/plain": [
       "Commitment:$5,000,000\n",
       "Loan: $50,000"
      ]
     },
     "execution_count": 75,
     "metadata": {},
     "output_type": "execute_result"
    }
   ],
   "source": [
    "ABC_loan"
   ]
  },
  {
   "cell_type": "code",
   "execution_count": 76,
   "metadata": {},
   "outputs": [
    {
     "data": {
      "text/plain": [
       "Total Aging:$6,000,000\n",
       "Past Dues: $600,000\n",
       "Advance Rate: 85.00%"
      ]
     },
     "execution_count": 76,
     "metadata": {},
     "output_type": "execute_result"
    }
   ],
   "source": [
    "ABC_collateral"
   ]
  },
  {
   "cell_type": "markdown",
   "metadata": {},
   "source": [
    "#### Next the borrower collects $10,000 of accounts.  We apply the collections to reduce the loan balance and to reduce the collateral balance"
   ]
  },
  {
   "cell_type": "code",
   "execution_count": 77,
   "metadata": {},
   "outputs": [],
   "source": [
    "sales_collections(ABC_collateral, ABC_loan, 10000)"
   ]
  },
  {
   "cell_type": "code",
   "execution_count": 78,
   "metadata": {},
   "outputs": [
    {
     "data": {
      "text/plain": [
       "'The new loan amount is $40,000.00'"
      ]
     },
     "execution_count": 78,
     "metadata": {},
     "output_type": "execute_result"
    }
   ],
   "source": [
    "f\"The new loan amount is ${ABC_loan.loan:,.2f}\" "
   ]
  },
  {
   "cell_type": "code",
   "execution_count": 79,
   "metadata": {},
   "outputs": [
    {
     "data": {
      "text/plain": [
       "'The new excess availability is $4,541,500.00'"
      ]
     },
     "execution_count": 79,
     "metadata": {},
     "output_type": "execute_result"
    }
   ],
   "source": [
    "f\"The new excess availability is ${excess_availability(ABC_collateral, ABC_loan):,.2f}\""
   ]
  },
  {
   "cell_type": "markdown",
   "metadata": {},
   "source": [
    "#### Let's recap:"
   ]
  },
  {
   "cell_type": "code",
   "execution_count": 80,
   "metadata": {},
   "outputs": [
    {
     "data": {
      "text/plain": [
       "Commitment:$5,000,000\n",
       "Loan: $40,000"
      ]
     },
     "execution_count": 80,
     "metadata": {},
     "output_type": "execute_result"
    }
   ],
   "source": [
    "ABC_loan"
   ]
  },
  {
   "cell_type": "code",
   "execution_count": 81,
   "metadata": {},
   "outputs": [
    {
     "data": {
      "text/plain": [
       "Total Aging:$5,990,000\n",
       "Past Dues: $600,000\n",
       "Advance Rate: 85.00%"
      ]
     },
     "execution_count": 81,
     "metadata": {},
     "output_type": "execute_result"
    }
   ],
   "source": [
    "ABC_collateral"
   ]
  },
  {
   "cell_type": "code",
   "execution_count": 82,
   "metadata": {},
   "outputs": [
    {
     "data": {
      "text/plain": [
       "'Excess Availability totals $4,541,500.00.'"
      ]
     },
     "execution_count": 82,
     "metadata": {},
     "output_type": "execute_result"
    }
   ],
   "source": [
    "excess_avail = excess_availability(ABC_collateral, ABC_loan)\n",
    "f'Excess Availability totals ${excess_avail:,.2f}.'"
   ]
  },
  {
   "cell_type": "markdown",
   "metadata": {},
   "source": [
    "> ### <font color = 'green'> Once again to summarize:\n",
    "* The borrower opened with no loan and 4,590,000 in excess undrawn availability on the line of credit.\n",
    "* The borrower then took a draw for 50,000.  The loan went up and excess availability went down, both by 50,000\n",
    "* Next the borrower collected 10,000 of accounts receivable. The loan decreases by $10,000 and the collateral decreases by $10,000 but the excess availability, the liquidity of the business increases by 1,500."
   ]
  },
  {
   "cell_type": "code",
   "execution_count": 83,
   "metadata": {},
   "outputs": [],
   "source": [
    "# date_hist = []\n",
    "# loan_hist = []\n",
    "# i_rate_hist = []\n",
    "# accrued_interest_hist = []"
   ]
  },
  {
   "cell_type": "code",
   "execution_count": 97,
   "metadata": {},
   "outputs": [
    {
     "name": "stdout",
     "output_type": "stream",
     "text": [
      "Your advance of $10,000,000.00 exceeds your excess_availability of $3,540,500.00:  ADVANCE REJECTED!\n"
     ]
    }
   ],
   "source": [
    "fund_presentments(ABC_collateral, ABC_loan, 10000000)"
   ]
  },
  {
   "cell_type": "code",
   "execution_count": 85,
   "metadata": {},
   "outputs": [
    {
     "data": {
      "text/plain": [
       "41000"
      ]
     },
     "execution_count": 85,
     "metadata": {},
     "output_type": "execute_result"
    }
   ],
   "source": [
    "ABC_loan.loan"
   ]
  },
  {
   "cell_type": "code",
   "execution_count": 86,
   "metadata": {},
   "outputs": [
    {
     "data": {
      "text/plain": [
       "[0,\n",
       " 1000,\n",
       " 1000,\n",
       " 5500,\n",
       " 6500,\n",
       " 7500,\n",
       " 8250,\n",
       " 9015.0,\n",
       " 9795.300000000001,\n",
       " 10591.206,\n",
       " 11403.030120000001,\n",
       " 12231.0907224,\n",
       " 13075.712536848,\n",
       " 13937.22678758496,\n",
       " 14815.971323336658,\n",
       " 15712.290749803393,\n",
       " 16626.536564799462,\n",
       " 17559.067296095454,\n",
       " 18510.248642017366,\n",
       " 19480.453614857714,\n",
       " 20470.06268715487,\n",
       " 21479.463940897967,\n",
       " 22509.053219715926,\n",
       " 23559.234284110247,\n",
       " 24630.418969792452,\n",
       " 25723.0273491883]"
      ]
     },
     "execution_count": 86,
     "metadata": {},
     "output_type": "execute_result"
    }
   ],
   "source": [
    "loan_hist"
   ]
  },
  {
   "cell_type": "code",
   "execution_count": 87,
   "metadata": {},
   "outputs": [
    {
     "data": {
      "text/plain": [
       "[datetime.date(2018, 12, 31),\n",
       " datetime.date(2019, 1, 4),\n",
       " datetime.date(2019, 1, 5),\n",
       " datetime.date(2019, 1, 6),\n",
       " datetime.date(2019, 1, 6),\n",
       " datetime.date(2019, 1, 6),\n",
       " datetime.date(2019, 1, 6),\n",
       " datetime.date(2019, 1, 6),\n",
       " datetime.date(2019, 1, 6),\n",
       " datetime.date(2019, 1, 6),\n",
       " datetime.date(2019, 1, 6),\n",
       " datetime.date(2019, 1, 6),\n",
       " datetime.date(2019, 1, 6),\n",
       " datetime.date(2019, 1, 6),\n",
       " datetime.date(2019, 1, 6),\n",
       " datetime.date(2019, 1, 6),\n",
       " datetime.date(2019, 1, 6),\n",
       " datetime.date(2019, 1, 6),\n",
       " datetime.date(2019, 1, 6),\n",
       " datetime.date(2019, 1, 6),\n",
       " datetime.date(2019, 1, 6),\n",
       " datetime.date(2019, 1, 6),\n",
       " datetime.date(2019, 1, 6),\n",
       " datetime.date(2019, 1, 6),\n",
       " datetime.date(2019, 1, 6),\n",
       " datetime.date(2019, 1, 6)]"
      ]
     },
     "execution_count": 87,
     "metadata": {},
     "output_type": "execute_result"
    }
   ],
   "source": [
    "date_hist_str"
   ]
  },
  {
   "cell_type": "code",
   "execution_count": 88,
   "metadata": {},
   "outputs": [
    {
     "data": {
      "text/plain": [
       "[0,\n",
       " 0.1,\n",
       " 0.1,\n",
       " 0.1,\n",
       " 0.1,\n",
       " 0.1,\n",
       " 0.1,\n",
       " 0.1,\n",
       " 0.1,\n",
       " 0.1,\n",
       " 0.1,\n",
       " 0.1,\n",
       " 0.1,\n",
       " 0.1,\n",
       " 0.1,\n",
       " 0.1,\n",
       " 0.1,\n",
       " 0.1,\n",
       " 0.1,\n",
       " 0.1,\n",
       " 0.1,\n",
       " 0.1,\n",
       " 0.1,\n",
       " 0.1,\n",
       " 0.1,\n",
       " 0.1]"
      ]
     },
     "execution_count": 88,
     "metadata": {},
     "output_type": "execute_result"
    }
   ],
   "source": [
    "i_rate_hist"
   ]
  },
  {
   "cell_type": "code",
   "execution_count": 89,
   "metadata": {},
   "outputs": [
    {
     "data": {
      "text/plain": [
       "[0,\n",
       " 0.2777777777777778,\n",
       " 0.2777777777777778,\n",
       " 1.5277777777777777,\n",
       " 1.8055555555555556,\n",
       " 2.0833333333333335,\n",
       " 2.2916666666666665,\n",
       " 2.504166666666667,\n",
       " 2.720916666666667,\n",
       " 2.9420016666666666,\n",
       " 3.167508366666667,\n",
       " 3.397525200666667,\n",
       " 3.6321423713466667,\n",
       " 3.8714518854402664,\n",
       " 4.115547589815739,\n",
       " 4.364525208278721,\n",
       " 4.6184823791109615,\n",
       " 4.877518693359848,\n",
       " 5.1417357338937135,\n",
       " 5.411237115238254,\n",
       " 5.686128524209686,\n",
       " 5.966517761360547,\n",
       " 6.252514783254425,\n",
       " 6.54423174558618,\n",
       " 6.84178304716457,\n",
       " 7.145285374774529]"
      ]
     },
     "execution_count": 89,
     "metadata": {},
     "output_type": "execute_result"
    }
   ],
   "source": [
    "accrued_interest_hist"
   ]
  },
  {
   "cell_type": "code",
   "execution_count": 90,
   "metadata": {},
   "outputs": [
    {
     "data": {
      "text/plain": [
       "[0,\n",
       " 32750.0,\n",
       " 32375.0,\n",
       " 27500.0,\n",
       " 25750.0,\n",
       " 24000.0,\n",
       " 22687.5,\n",
       " 21348.75,\n",
       " 19983.225,\n",
       " 18590.389499999997,\n",
       " 17169.697289999996,\n",
       " 15720.591235799995,\n",
       " 14242.503060515997,\n",
       " 12734.853121726317,\n",
       " 11197.050184160844,\n",
       " 9628.491187844058,\n",
       " 8028.561011600941,\n",
       " 6396.632231832955,\n",
       " 4732.064876469609,\n",
       " 3034.2061739989986,\n",
       " 1302.3902974789744,\n",
       " -464.0618965714457,\n",
       " -2265.843134502873,\n",
       " -4103.659997192932,\n",
       " -5978.233197136789,\n",
       " -7890.297861079529]"
      ]
     },
     "execution_count": 90,
     "metadata": {},
     "output_type": "execute_result"
    }
   ],
   "source": [
    "liquidity_hist"
   ]
  },
  {
   "cell_type": "code",
   "execution_count": 91,
   "metadata": {},
   "outputs": [],
   "source": [
    "len(date_hist_str), len(loan_hist), len(i_rate_hist), len(accrued_interest_hist)\n",
    "# date_hist_str = [day.strftime for day in date_hist]\n",
    "# date_hist_str = [i.strftime('%b-%d') for i in date_hist]\n",
    "date_hist_str = [i.strftime('%b-%d') for i in date_hist_str]"
   ]
  },
  {
   "cell_type": "code",
   "execution_count": 92,
   "metadata": {},
   "outputs": [
    {
     "data": {
      "text/plain": [
       "['Dec-31',\n",
       " 'Jan-04',\n",
       " 'Jan-05',\n",
       " 'Jan-06',\n",
       " 'Jan-06',\n",
       " 'Jan-06',\n",
       " 'Jan-06',\n",
       " 'Jan-06',\n",
       " 'Jan-06',\n",
       " 'Jan-06',\n",
       " 'Jan-06',\n",
       " 'Jan-06',\n",
       " 'Jan-06',\n",
       " 'Jan-06',\n",
       " 'Jan-06',\n",
       " 'Jan-06',\n",
       " 'Jan-06',\n",
       " 'Jan-06',\n",
       " 'Jan-06',\n",
       " 'Jan-06',\n",
       " 'Jan-06',\n",
       " 'Jan-06',\n",
       " 'Jan-06',\n",
       " 'Jan-06',\n",
       " 'Jan-06',\n",
       " 'Jan-06']"
      ]
     },
     "execution_count": 92,
     "metadata": {},
     "output_type": "execute_result"
    }
   ],
   "source": [
    "date_hist_str"
   ]
  },
  {
   "cell_type": "code",
   "execution_count": 93,
   "metadata": {},
   "outputs": [],
   "source": [
    "# df = pd.DataFrame(\n",
    "#     {'loan':loan_hist,\n",
    "#      'Interest Rate': i_rate_hist,\n",
    "#      'Interest Accrual': accrued_interest_hist,\n",
    "#      'Liquidity': liquidity_hist\n",
    "#     }, index = date_hist)\n",
    "\n",
    "df = pd.DataFrame(\n",
    "    {'loan':loan_hist,\n",
    "     'Interest Rate': i_rate_hist,\n",
    "     'Interest Accrual': accrued_interest_hist,\n",
    "     'Liquidity': liquidity_hist,\n",
    "     'Date': date_hist_str\n",
    "    })"
   ]
  },
  {
   "cell_type": "code",
   "execution_count": 94,
   "metadata": {},
   "outputs": [
    {
     "data": {
      "text/html": [
       "<div>\n",
       "<style scoped>\n",
       "    .dataframe tbody tr th:only-of-type {\n",
       "        vertical-align: middle;\n",
       "    }\n",
       "\n",
       "    .dataframe tbody tr th {\n",
       "        vertical-align: top;\n",
       "    }\n",
       "\n",
       "    .dataframe thead th {\n",
       "        text-align: right;\n",
       "    }\n",
       "</style>\n",
       "<table border=\"1\" class=\"dataframe\">\n",
       "  <thead>\n",
       "    <tr style=\"text-align: right;\">\n",
       "      <th></th>\n",
       "      <th>Date</th>\n",
       "      <th>Interest Accrual</th>\n",
       "      <th>Interest Rate</th>\n",
       "      <th>Liquidity</th>\n",
       "      <th>loan</th>\n",
       "    </tr>\n",
       "  </thead>\n",
       "  <tbody>\n",
       "    <tr>\n",
       "      <th>0</th>\n",
       "      <td>Dec-31</td>\n",
       "      <td>0.000000</td>\n",
       "      <td>0.0</td>\n",
       "      <td>0.000000</td>\n",
       "      <td>0.000000</td>\n",
       "    </tr>\n",
       "    <tr>\n",
       "      <th>1</th>\n",
       "      <td>Jan-04</td>\n",
       "      <td>0.277778</td>\n",
       "      <td>0.1</td>\n",
       "      <td>32750.000000</td>\n",
       "      <td>1000.000000</td>\n",
       "    </tr>\n",
       "    <tr>\n",
       "      <th>2</th>\n",
       "      <td>Jan-05</td>\n",
       "      <td>0.277778</td>\n",
       "      <td>0.1</td>\n",
       "      <td>32375.000000</td>\n",
       "      <td>1000.000000</td>\n",
       "    </tr>\n",
       "    <tr>\n",
       "      <th>3</th>\n",
       "      <td>Jan-06</td>\n",
       "      <td>1.527778</td>\n",
       "      <td>0.1</td>\n",
       "      <td>27500.000000</td>\n",
       "      <td>5500.000000</td>\n",
       "    </tr>\n",
       "    <tr>\n",
       "      <th>4</th>\n",
       "      <td>Jan-06</td>\n",
       "      <td>1.805556</td>\n",
       "      <td>0.1</td>\n",
       "      <td>25750.000000</td>\n",
       "      <td>6500.000000</td>\n",
       "    </tr>\n",
       "    <tr>\n",
       "      <th>5</th>\n",
       "      <td>Jan-06</td>\n",
       "      <td>2.083333</td>\n",
       "      <td>0.1</td>\n",
       "      <td>24000.000000</td>\n",
       "      <td>7500.000000</td>\n",
       "    </tr>\n",
       "    <tr>\n",
       "      <th>6</th>\n",
       "      <td>Jan-06</td>\n",
       "      <td>2.291667</td>\n",
       "      <td>0.1</td>\n",
       "      <td>22687.500000</td>\n",
       "      <td>8250.000000</td>\n",
       "    </tr>\n",
       "    <tr>\n",
       "      <th>7</th>\n",
       "      <td>Jan-06</td>\n",
       "      <td>2.504167</td>\n",
       "      <td>0.1</td>\n",
       "      <td>21348.750000</td>\n",
       "      <td>9015.000000</td>\n",
       "    </tr>\n",
       "    <tr>\n",
       "      <th>8</th>\n",
       "      <td>Jan-06</td>\n",
       "      <td>2.720917</td>\n",
       "      <td>0.1</td>\n",
       "      <td>19983.225000</td>\n",
       "      <td>9795.300000</td>\n",
       "    </tr>\n",
       "    <tr>\n",
       "      <th>9</th>\n",
       "      <td>Jan-06</td>\n",
       "      <td>2.942002</td>\n",
       "      <td>0.1</td>\n",
       "      <td>18590.389500</td>\n",
       "      <td>10591.206000</td>\n",
       "    </tr>\n",
       "    <tr>\n",
       "      <th>10</th>\n",
       "      <td>Jan-06</td>\n",
       "      <td>3.167508</td>\n",
       "      <td>0.1</td>\n",
       "      <td>17169.697290</td>\n",
       "      <td>11403.030120</td>\n",
       "    </tr>\n",
       "    <tr>\n",
       "      <th>11</th>\n",
       "      <td>Jan-06</td>\n",
       "      <td>3.397525</td>\n",
       "      <td>0.1</td>\n",
       "      <td>15720.591236</td>\n",
       "      <td>12231.090722</td>\n",
       "    </tr>\n",
       "    <tr>\n",
       "      <th>12</th>\n",
       "      <td>Jan-06</td>\n",
       "      <td>3.632142</td>\n",
       "      <td>0.1</td>\n",
       "      <td>14242.503061</td>\n",
       "      <td>13075.712537</td>\n",
       "    </tr>\n",
       "    <tr>\n",
       "      <th>13</th>\n",
       "      <td>Jan-06</td>\n",
       "      <td>3.871452</td>\n",
       "      <td>0.1</td>\n",
       "      <td>12734.853122</td>\n",
       "      <td>13937.226788</td>\n",
       "    </tr>\n",
       "    <tr>\n",
       "      <th>14</th>\n",
       "      <td>Jan-06</td>\n",
       "      <td>4.115548</td>\n",
       "      <td>0.1</td>\n",
       "      <td>11197.050184</td>\n",
       "      <td>14815.971323</td>\n",
       "    </tr>\n",
       "    <tr>\n",
       "      <th>15</th>\n",
       "      <td>Jan-06</td>\n",
       "      <td>4.364525</td>\n",
       "      <td>0.1</td>\n",
       "      <td>9628.491188</td>\n",
       "      <td>15712.290750</td>\n",
       "    </tr>\n",
       "    <tr>\n",
       "      <th>16</th>\n",
       "      <td>Jan-06</td>\n",
       "      <td>4.618482</td>\n",
       "      <td>0.1</td>\n",
       "      <td>8028.561012</td>\n",
       "      <td>16626.536565</td>\n",
       "    </tr>\n",
       "    <tr>\n",
       "      <th>17</th>\n",
       "      <td>Jan-06</td>\n",
       "      <td>4.877519</td>\n",
       "      <td>0.1</td>\n",
       "      <td>6396.632232</td>\n",
       "      <td>17559.067296</td>\n",
       "    </tr>\n",
       "    <tr>\n",
       "      <th>18</th>\n",
       "      <td>Jan-06</td>\n",
       "      <td>5.141736</td>\n",
       "      <td>0.1</td>\n",
       "      <td>4732.064876</td>\n",
       "      <td>18510.248642</td>\n",
       "    </tr>\n",
       "    <tr>\n",
       "      <th>19</th>\n",
       "      <td>Jan-06</td>\n",
       "      <td>5.411237</td>\n",
       "      <td>0.1</td>\n",
       "      <td>3034.206174</td>\n",
       "      <td>19480.453615</td>\n",
       "    </tr>\n",
       "    <tr>\n",
       "      <th>20</th>\n",
       "      <td>Jan-06</td>\n",
       "      <td>5.686129</td>\n",
       "      <td>0.1</td>\n",
       "      <td>1302.390297</td>\n",
       "      <td>20470.062687</td>\n",
       "    </tr>\n",
       "    <tr>\n",
       "      <th>21</th>\n",
       "      <td>Jan-06</td>\n",
       "      <td>5.966518</td>\n",
       "      <td>0.1</td>\n",
       "      <td>-464.061897</td>\n",
       "      <td>21479.463941</td>\n",
       "    </tr>\n",
       "    <tr>\n",
       "      <th>22</th>\n",
       "      <td>Jan-06</td>\n",
       "      <td>6.252515</td>\n",
       "      <td>0.1</td>\n",
       "      <td>-2265.843135</td>\n",
       "      <td>22509.053220</td>\n",
       "    </tr>\n",
       "    <tr>\n",
       "      <th>23</th>\n",
       "      <td>Jan-06</td>\n",
       "      <td>6.544232</td>\n",
       "      <td>0.1</td>\n",
       "      <td>-4103.659997</td>\n",
       "      <td>23559.234284</td>\n",
       "    </tr>\n",
       "    <tr>\n",
       "      <th>24</th>\n",
       "      <td>Jan-06</td>\n",
       "      <td>6.841783</td>\n",
       "      <td>0.1</td>\n",
       "      <td>-5978.233197</td>\n",
       "      <td>24630.418970</td>\n",
       "    </tr>\n",
       "    <tr>\n",
       "      <th>25</th>\n",
       "      <td>Jan-06</td>\n",
       "      <td>7.145285</td>\n",
       "      <td>0.1</td>\n",
       "      <td>-7890.297861</td>\n",
       "      <td>25723.027349</td>\n",
       "    </tr>\n",
       "  </tbody>\n",
       "</table>\n",
       "</div>"
      ],
      "text/plain": [
       "      Date  Interest Accrual  Interest Rate     Liquidity          loan\n",
       "0   Dec-31          0.000000            0.0      0.000000      0.000000\n",
       "1   Jan-04          0.277778            0.1  32750.000000   1000.000000\n",
       "2   Jan-05          0.277778            0.1  32375.000000   1000.000000\n",
       "3   Jan-06          1.527778            0.1  27500.000000   5500.000000\n",
       "4   Jan-06          1.805556            0.1  25750.000000   6500.000000\n",
       "5   Jan-06          2.083333            0.1  24000.000000   7500.000000\n",
       "6   Jan-06          2.291667            0.1  22687.500000   8250.000000\n",
       "7   Jan-06          2.504167            0.1  21348.750000   9015.000000\n",
       "8   Jan-06          2.720917            0.1  19983.225000   9795.300000\n",
       "9   Jan-06          2.942002            0.1  18590.389500  10591.206000\n",
       "10  Jan-06          3.167508            0.1  17169.697290  11403.030120\n",
       "11  Jan-06          3.397525            0.1  15720.591236  12231.090722\n",
       "12  Jan-06          3.632142            0.1  14242.503061  13075.712537\n",
       "13  Jan-06          3.871452            0.1  12734.853122  13937.226788\n",
       "14  Jan-06          4.115548            0.1  11197.050184  14815.971323\n",
       "15  Jan-06          4.364525            0.1   9628.491188  15712.290750\n",
       "16  Jan-06          4.618482            0.1   8028.561012  16626.536565\n",
       "17  Jan-06          4.877519            0.1   6396.632232  17559.067296\n",
       "18  Jan-06          5.141736            0.1   4732.064876  18510.248642\n",
       "19  Jan-06          5.411237            0.1   3034.206174  19480.453615\n",
       "20  Jan-06          5.686129            0.1   1302.390297  20470.062687\n",
       "21  Jan-06          5.966518            0.1   -464.061897  21479.463941\n",
       "22  Jan-06          6.252515            0.1  -2265.843135  22509.053220\n",
       "23  Jan-06          6.544232            0.1  -4103.659997  23559.234284\n",
       "24  Jan-06          6.841783            0.1  -5978.233197  24630.418970\n",
       "25  Jan-06          7.145285            0.1  -7890.297861  25723.027349"
      ]
     },
     "execution_count": 94,
     "metadata": {},
     "output_type": "execute_result"
    }
   ],
   "source": [
    "df"
   ]
  },
  {
   "cell_type": "code",
   "execution_count": null,
   "metadata": {},
   "outputs": [],
   "source": []
  },
  {
   "cell_type": "code",
   "execution_count": 95,
   "metadata": {},
   "outputs": [
    {
     "ename": "ValueError",
     "evalue": "scatter requires x column to be numeric",
     "output_type": "error",
     "traceback": [
      "\u001b[0;31m---------------------------------------------------------------------------\u001b[0m",
      "\u001b[0;31mValueError\u001b[0m                                Traceback (most recent call last)",
      "\u001b[0;32m<ipython-input-95-444f84fcecab>\u001b[0m in \u001b[0;36m<module>\u001b[0;34m\u001b[0m\n\u001b[1;32m      1\u001b[0m \u001b[0mget_ipython\u001b[0m\u001b[0;34m(\u001b[0m\u001b[0;34m)\u001b[0m\u001b[0;34m.\u001b[0m\u001b[0mrun_line_magic\u001b[0m\u001b[0;34m(\u001b[0m\u001b[0;34m'matplotlib'\u001b[0m\u001b[0;34m,\u001b[0m \u001b[0;34m'inline'\u001b[0m\u001b[0;34m)\u001b[0m\u001b[0;34m\u001b[0m\u001b[0;34m\u001b[0m\u001b[0m\n\u001b[1;32m      2\u001b[0m \u001b[0;31m# plt.scatter(loan_hist, date_hist)\u001b[0m\u001b[0;34m\u001b[0m\u001b[0;34m\u001b[0m\u001b[0;34m\u001b[0m\u001b[0m\n\u001b[0;32m----> 3\u001b[0;31m \u001b[0mdf\u001b[0m\u001b[0;34m.\u001b[0m\u001b[0mplot\u001b[0m\u001b[0;34m(\u001b[0m\u001b[0mkind\u001b[0m\u001b[0;34m=\u001b[0m\u001b[0;34m'scatter'\u001b[0m\u001b[0;34m,\u001b[0m\u001b[0mx\u001b[0m\u001b[0;34m=\u001b[0m\u001b[0;34m'Date'\u001b[0m\u001b[0;34m,\u001b[0m\u001b[0my\u001b[0m\u001b[0;34m=\u001b[0m\u001b[0;34m'Liquidity'\u001b[0m\u001b[0;34m,\u001b[0m\u001b[0mcolor\u001b[0m\u001b[0;34m=\u001b[0m\u001b[0;34m'red'\u001b[0m\u001b[0;34m)\u001b[0m\u001b[0;34m\u001b[0m\u001b[0;34m\u001b[0m\u001b[0m\n\u001b[0m\u001b[1;32m      4\u001b[0m \u001b[0mplt\u001b[0m\u001b[0;34m.\u001b[0m\u001b[0mshow\u001b[0m\u001b[0;34m(\u001b[0m\u001b[0;34m)\u001b[0m\u001b[0;34m\u001b[0m\u001b[0;34m\u001b[0m\u001b[0m\n",
      "\u001b[0;32m/anaconda3/lib/python3.6/site-packages/pandas/plotting/_core.py\u001b[0m in \u001b[0;36m__call__\u001b[0;34m(self, x, y, kind, ax, subplots, sharex, sharey, layout, figsize, use_index, title, grid, legend, style, logx, logy, loglog, xticks, yticks, xlim, ylim, rot, fontsize, colormap, table, yerr, xerr, secondary_y, sort_columns, **kwds)\u001b[0m\n\u001b[1;32m   2675\u001b[0m                           \u001b[0mfontsize\u001b[0m\u001b[0;34m=\u001b[0m\u001b[0mfontsize\u001b[0m\u001b[0;34m,\u001b[0m \u001b[0mcolormap\u001b[0m\u001b[0;34m=\u001b[0m\u001b[0mcolormap\u001b[0m\u001b[0;34m,\u001b[0m \u001b[0mtable\u001b[0m\u001b[0;34m=\u001b[0m\u001b[0mtable\u001b[0m\u001b[0;34m,\u001b[0m\u001b[0;34m\u001b[0m\u001b[0;34m\u001b[0m\u001b[0m\n\u001b[1;32m   2676\u001b[0m                           \u001b[0myerr\u001b[0m\u001b[0;34m=\u001b[0m\u001b[0myerr\u001b[0m\u001b[0;34m,\u001b[0m \u001b[0mxerr\u001b[0m\u001b[0;34m=\u001b[0m\u001b[0mxerr\u001b[0m\u001b[0;34m,\u001b[0m \u001b[0msecondary_y\u001b[0m\u001b[0;34m=\u001b[0m\u001b[0msecondary_y\u001b[0m\u001b[0;34m,\u001b[0m\u001b[0;34m\u001b[0m\u001b[0;34m\u001b[0m\u001b[0m\n\u001b[0;32m-> 2677\u001b[0;31m                           sort_columns=sort_columns, **kwds)\n\u001b[0m\u001b[1;32m   2678\u001b[0m     \u001b[0m__call__\u001b[0m\u001b[0;34m.\u001b[0m\u001b[0m__doc__\u001b[0m \u001b[0;34m=\u001b[0m \u001b[0mplot_frame\u001b[0m\u001b[0;34m.\u001b[0m\u001b[0m__doc__\u001b[0m\u001b[0;34m\u001b[0m\u001b[0;34m\u001b[0m\u001b[0m\n\u001b[1;32m   2679\u001b[0m \u001b[0;34m\u001b[0m\u001b[0m\n",
      "\u001b[0;32m/anaconda3/lib/python3.6/site-packages/pandas/plotting/_core.py\u001b[0m in \u001b[0;36mplot_frame\u001b[0;34m(data, x, y, kind, ax, subplots, sharex, sharey, layout, figsize, use_index, title, grid, legend, style, logx, logy, loglog, xticks, yticks, xlim, ylim, rot, fontsize, colormap, table, yerr, xerr, secondary_y, sort_columns, **kwds)\u001b[0m\n\u001b[1;32m   1900\u001b[0m                  \u001b[0myerr\u001b[0m\u001b[0;34m=\u001b[0m\u001b[0myerr\u001b[0m\u001b[0;34m,\u001b[0m \u001b[0mxerr\u001b[0m\u001b[0;34m=\u001b[0m\u001b[0mxerr\u001b[0m\u001b[0;34m,\u001b[0m\u001b[0;34m\u001b[0m\u001b[0;34m\u001b[0m\u001b[0m\n\u001b[1;32m   1901\u001b[0m                  \u001b[0msecondary_y\u001b[0m\u001b[0;34m=\u001b[0m\u001b[0msecondary_y\u001b[0m\u001b[0;34m,\u001b[0m \u001b[0msort_columns\u001b[0m\u001b[0;34m=\u001b[0m\u001b[0msort_columns\u001b[0m\u001b[0;34m,\u001b[0m\u001b[0;34m\u001b[0m\u001b[0;34m\u001b[0m\u001b[0m\n\u001b[0;32m-> 1902\u001b[0;31m                  **kwds)\n\u001b[0m\u001b[1;32m   1903\u001b[0m \u001b[0;34m\u001b[0m\u001b[0m\n\u001b[1;32m   1904\u001b[0m \u001b[0;34m\u001b[0m\u001b[0m\n",
      "\u001b[0;32m/anaconda3/lib/python3.6/site-packages/pandas/plotting/_core.py\u001b[0m in \u001b[0;36m_plot\u001b[0;34m(data, x, y, subplots, ax, kind, **kwds)\u001b[0m\n\u001b[1;32m   1685\u001b[0m         \u001b[0;32mif\u001b[0m \u001b[0misinstance\u001b[0m\u001b[0;34m(\u001b[0m\u001b[0mdata\u001b[0m\u001b[0;34m,\u001b[0m \u001b[0mDataFrame\u001b[0m\u001b[0;34m)\u001b[0m\u001b[0;34m:\u001b[0m\u001b[0;34m\u001b[0m\u001b[0;34m\u001b[0m\u001b[0m\n\u001b[1;32m   1686\u001b[0m             plot_obj = klass(data, x=x, y=y, subplots=subplots, ax=ax,\n\u001b[0;32m-> 1687\u001b[0;31m                              kind=kind, **kwds)\n\u001b[0m\u001b[1;32m   1688\u001b[0m         \u001b[0;32melse\u001b[0m\u001b[0;34m:\u001b[0m\u001b[0;34m\u001b[0m\u001b[0;34m\u001b[0m\u001b[0m\n\u001b[1;32m   1689\u001b[0m             raise ValueError(\"plot kind %r can only be used for data frames\"\n",
      "\u001b[0;32m/anaconda3/lib/python3.6/site-packages/pandas/plotting/_core.py\u001b[0m in \u001b[0;36m__init__\u001b[0;34m(self, data, x, y, s, c, **kwargs)\u001b[0m\n\u001b[1;32m    835\u001b[0m             \u001b[0;31m# the handling of this argument later\u001b[0m\u001b[0;34m\u001b[0m\u001b[0;34m\u001b[0m\u001b[0;34m\u001b[0m\u001b[0m\n\u001b[1;32m    836\u001b[0m             \u001b[0ms\u001b[0m \u001b[0;34m=\u001b[0m \u001b[0;36m20\u001b[0m\u001b[0;34m\u001b[0m\u001b[0;34m\u001b[0m\u001b[0m\n\u001b[0;32m--> 837\u001b[0;31m         \u001b[0msuper\u001b[0m\u001b[0;34m(\u001b[0m\u001b[0mScatterPlot\u001b[0m\u001b[0;34m,\u001b[0m \u001b[0mself\u001b[0m\u001b[0;34m)\u001b[0m\u001b[0;34m.\u001b[0m\u001b[0m__init__\u001b[0m\u001b[0;34m(\u001b[0m\u001b[0mdata\u001b[0m\u001b[0;34m,\u001b[0m \u001b[0mx\u001b[0m\u001b[0;34m,\u001b[0m \u001b[0my\u001b[0m\u001b[0;34m,\u001b[0m \u001b[0ms\u001b[0m\u001b[0;34m=\u001b[0m\u001b[0ms\u001b[0m\u001b[0;34m,\u001b[0m \u001b[0;34m**\u001b[0m\u001b[0mkwargs\u001b[0m\u001b[0;34m)\u001b[0m\u001b[0;34m\u001b[0m\u001b[0;34m\u001b[0m\u001b[0m\n\u001b[0m\u001b[1;32m    838\u001b[0m         \u001b[0;32mif\u001b[0m \u001b[0mis_integer\u001b[0m\u001b[0;34m(\u001b[0m\u001b[0mc\u001b[0m\u001b[0;34m)\u001b[0m \u001b[0;32mand\u001b[0m \u001b[0;32mnot\u001b[0m \u001b[0mself\u001b[0m\u001b[0;34m.\u001b[0m\u001b[0mdata\u001b[0m\u001b[0;34m.\u001b[0m\u001b[0mcolumns\u001b[0m\u001b[0;34m.\u001b[0m\u001b[0mholds_integer\u001b[0m\u001b[0;34m(\u001b[0m\u001b[0;34m)\u001b[0m\u001b[0;34m:\u001b[0m\u001b[0;34m\u001b[0m\u001b[0;34m\u001b[0m\u001b[0m\n\u001b[1;32m    839\u001b[0m             \u001b[0mc\u001b[0m \u001b[0;34m=\u001b[0m \u001b[0mself\u001b[0m\u001b[0;34m.\u001b[0m\u001b[0mdata\u001b[0m\u001b[0;34m.\u001b[0m\u001b[0mcolumns\u001b[0m\u001b[0;34m[\u001b[0m\u001b[0mc\u001b[0m\u001b[0;34m]\u001b[0m\u001b[0;34m\u001b[0m\u001b[0;34m\u001b[0m\u001b[0m\n",
      "\u001b[0;32m/anaconda3/lib/python3.6/site-packages/pandas/plotting/_core.py\u001b[0m in \u001b[0;36m__init__\u001b[0;34m(self, data, x, y, **kwargs)\u001b[0m\n\u001b[1;32m    810\u001b[0m             \u001b[0my\u001b[0m \u001b[0;34m=\u001b[0m \u001b[0mself\u001b[0m\u001b[0;34m.\u001b[0m\u001b[0mdata\u001b[0m\u001b[0;34m.\u001b[0m\u001b[0mcolumns\u001b[0m\u001b[0;34m[\u001b[0m\u001b[0my\u001b[0m\u001b[0;34m]\u001b[0m\u001b[0;34m\u001b[0m\u001b[0;34m\u001b[0m\u001b[0m\n\u001b[1;32m    811\u001b[0m         \u001b[0;32mif\u001b[0m \u001b[0mlen\u001b[0m\u001b[0;34m(\u001b[0m\u001b[0mself\u001b[0m\u001b[0;34m.\u001b[0m\u001b[0mdata\u001b[0m\u001b[0;34m[\u001b[0m\u001b[0mx\u001b[0m\u001b[0;34m]\u001b[0m\u001b[0;34m.\u001b[0m\u001b[0m_get_numeric_data\u001b[0m\u001b[0;34m(\u001b[0m\u001b[0;34m)\u001b[0m\u001b[0;34m)\u001b[0m \u001b[0;34m==\u001b[0m \u001b[0;36m0\u001b[0m\u001b[0;34m:\u001b[0m\u001b[0;34m\u001b[0m\u001b[0;34m\u001b[0m\u001b[0m\n\u001b[0;32m--> 812\u001b[0;31m             \u001b[0;32mraise\u001b[0m \u001b[0mValueError\u001b[0m\u001b[0;34m(\u001b[0m\u001b[0mself\u001b[0m\u001b[0;34m.\u001b[0m\u001b[0m_kind\u001b[0m \u001b[0;34m+\u001b[0m \u001b[0;34m' requires x column to be numeric'\u001b[0m\u001b[0;34m)\u001b[0m\u001b[0;34m\u001b[0m\u001b[0;34m\u001b[0m\u001b[0m\n\u001b[0m\u001b[1;32m    813\u001b[0m         \u001b[0;32mif\u001b[0m \u001b[0mlen\u001b[0m\u001b[0;34m(\u001b[0m\u001b[0mself\u001b[0m\u001b[0;34m.\u001b[0m\u001b[0mdata\u001b[0m\u001b[0;34m[\u001b[0m\u001b[0my\u001b[0m\u001b[0;34m]\u001b[0m\u001b[0;34m.\u001b[0m\u001b[0m_get_numeric_data\u001b[0m\u001b[0;34m(\u001b[0m\u001b[0;34m)\u001b[0m\u001b[0;34m)\u001b[0m \u001b[0;34m==\u001b[0m \u001b[0;36m0\u001b[0m\u001b[0;34m:\u001b[0m\u001b[0;34m\u001b[0m\u001b[0;34m\u001b[0m\u001b[0m\n\u001b[1;32m    814\u001b[0m             \u001b[0;32mraise\u001b[0m \u001b[0mValueError\u001b[0m\u001b[0;34m(\u001b[0m\u001b[0mself\u001b[0m\u001b[0;34m.\u001b[0m\u001b[0m_kind\u001b[0m \u001b[0;34m+\u001b[0m \u001b[0;34m' requires y column to be numeric'\u001b[0m\u001b[0;34m)\u001b[0m\u001b[0;34m\u001b[0m\u001b[0;34m\u001b[0m\u001b[0m\n",
      "\u001b[0;31mValueError\u001b[0m: scatter requires x column to be numeric"
     ]
    }
   ],
   "source": [
    "%matplotlib inline\n",
    "# plt.scatter(loan_hist, date_hist)\n",
    "df.plot(kind='scatter',x='Date',y='Liquidity',color='red')\n",
    "plt.show()"
   ]
  },
  {
   "cell_type": "code",
   "execution_count": null,
   "metadata": {},
   "outputs": [],
   "source": [
    "ABC_loan"
   ]
  },
  {
   "cell_type": "code",
   "execution_count": null,
   "metadata": {},
   "outputs": [],
   "source": [
    "excess_availability(ABC_collateral, ABC_loan)"
   ]
  },
  {
   "cell_type": "code",
   "execution_count": null,
   "metadata": {},
   "outputs": [],
   "source": []
  },
  {
   "cell_type": "code",
   "execution_count": null,
   "metadata": {},
   "outputs": [],
   "source": []
  },
  {
   "cell_type": "code",
   "execution_count": null,
   "metadata": {},
   "outputs": [],
   "source": []
  }
 ],
 "metadata": {
  "kernelspec": {
   "display_name": "Python 3",
   "language": "python",
   "name": "python3"
  },
  "language_info": {
   "codemirror_mode": {
    "name": "ipython",
    "version": 3
   },
   "file_extension": ".py",
   "mimetype": "text/x-python",
   "name": "python",
   "nbconvert_exporter": "python",
   "pygments_lexer": "ipython3",
   "version": "3.6.8"
  }
 },
 "nbformat": 4,
 "nbformat_minor": 2
}
