{
 "cells": [
  {
   "cell_type": "markdown",
   "metadata": {},
   "source": [
    "# Asset-based lending: \"a primer in python\"<br>\n",
    ">## <font color = green>Asset_based lending (ABL) is an efficient and flexible technique to finance working capital especially for leveraged businesses that need to manage cash.  It works quite well for noninvestment grade manufacturers and distributors that want to finance the growth of inventories and accounts.  In this notebook I've written a simple ABL platform in python to illustrate ABL's capabilities.\n",
    "</font>\n",
    "\n",
    ">__[ABL from Wikipedia](https://en.wikipedia.org/wiki/Asset-based_lending)__\n",
    "\n",
    "\n"
   ]
  },
  {
   "cell_type": "markdown",
   "metadata": {},
   "source": [
    ">## <font color = 'blue'>Managing cash drives ABL. For simplicity sake we are only using accounts receivable as collateral..Here are a few critical points to understand about our model:\n",
    ">*  The model track three primary cash flows:\n",
    "    * <b>Presentments.</b>The line of credit funds checks presented for payment, outgoing wires and ACH transfers out.  In our model the method loan.draw(presentments) is used to fund cash outflows and results in a increase on the line of credit.\n",
    "    * <b>Cash collections</b>.  The function, sales_collections(collateral_object, loan_object, collections) takes cash collections and uses it to reduce the loan balance and the accounts receivable.\n",
    "    * <b>New Sales</b>.  The method Accounts_receivable.new_sales(sales) increase the accounts receivable\n",
    "*  The model also tracks two stock accounts:\n",
    "    * <b>Loan account.</b>  The loan consisting of the commited facility and the loan balance.  \n",
    "    * <b>Collateral account.</b>  The total amount of accounts receivable.\n",
    "* Lastly and most importantly the model provides a tool to company management and lending risk officers to monitor and track liquidity\n",
    "    * <b>Availability.</b>  Calculates the maximun loan value of the collateral.  The class method Accounts_receivable.loan_availability calculates the loan value of the collateral\n",
    "    * <b>Excess Availability.</b>  The function excess_availability(collateral_object, loan_object) nets the value of the collateral against the outstanding loan with the difference being excess availability.  Almost every method and function in our model impacts this number</>\n"
   ]
  },
  {
   "cell_type": "markdown",
   "metadata": {},
   "source": [
    "### Step one.  import our dependencies"
   ]
  },
  {
   "cell_type": "code",
   "execution_count": 1,
   "metadata": {},
   "outputs": [],
   "source": [
    "from datetime import date\n",
    "import pandas as pd\n",
    "import matplotlib.pyplot as plt\n"
   ]
  },
  {
   "cell_type": "code",
   "execution_count": 3,
   "metadata": {},
   "outputs": [
    {
     "ename": "ImportError",
     "evalue": "cannot import name 'loan_presentments'",
     "output_type": "error",
     "traceback": [
      "\u001b[0;31m---------------------------------------------------------------------------\u001b[0m",
      "\u001b[0;31mImportError\u001b[0m                               Traceback (most recent call last)",
      "\u001b[0;32m<ipython-input-3-3484ed278282>\u001b[0m in \u001b[0;36m<module>\u001b[0;34m\u001b[0m\n\u001b[1;32m      1\u001b[0m \u001b[0;32mfrom\u001b[0m \u001b[0mloan_sys_objects\u001b[0m \u001b[0;32mimport\u001b[0m \u001b[0mCustomer\u001b[0m\u001b[0;34m,\u001b[0m \u001b[0mLoan\u001b[0m\u001b[0;34m,\u001b[0m \u001b[0mAccounts_receivable\u001b[0m\u001b[0;34m,\u001b[0m \u001b[0mInterest\u001b[0m\u001b[0;34m\u001b[0m\u001b[0;34m\u001b[0m\u001b[0m\n\u001b[0;32m----> 2\u001b[0;31m \u001b[0;32mfrom\u001b[0m \u001b[0mloan_sys_functions\u001b[0m \u001b[0;32mimport\u001b[0m \u001b[0mexcess_availability\u001b[0m\u001b[0;34m,\u001b[0m \u001b[0msales_collections\u001b[0m\u001b[0;34m,\u001b[0m \u001b[0mloan_presentments\u001b[0m\u001b[0;34m,\u001b[0m \u001b[0mdaily_build\u001b[0m\u001b[0;34m\u001b[0m\u001b[0;34m\u001b[0m\u001b[0m\n\u001b[0m\u001b[1;32m      3\u001b[0m \u001b[0;32mfrom\u001b[0m \u001b[0mloan_sys_functions\u001b[0m \u001b[0;32mimport\u001b[0m \u001b[0mloan_hist\u001b[0m\u001b[0;34m,\u001b[0m \u001b[0mdate_hist_str\u001b[0m\u001b[0;34m,\u001b[0m \u001b[0mi_rate_hist\u001b[0m\u001b[0;34m,\u001b[0m \u001b[0maccrued_interest_hist\u001b[0m\u001b[0;34m,\u001b[0m \u001b[0mliquidity_hist\u001b[0m\u001b[0;34m\u001b[0m\u001b[0;34m\u001b[0m\u001b[0m\n",
      "\u001b[0;31mImportError\u001b[0m: cannot import name 'loan_presentments'"
     ]
    }
   ],
   "source": [
    "from loan_sys_objects import Customer, Loan, Accounts_receivable, Interest\n",
    "from loan_sys_functions import excess_availability, sales_collections, fund_presentments, daily_build\n",
    "from loan_sys_functions import loan_hist, date_hist_str, i_rate_hist, accrued_interest_hist, liquidity_hist"
   ]
  },
  {
   "cell_type": "markdown",
   "metadata": {},
   "source": [
    "### Step two.  Create an instance of the following:\n",
    "* Customer object\n",
    "* Loan object\n",
    "* Accounts_receivable object\n",
    "* Interest object\n"
   ]
  },
  {
   "cell_type": "code",
   "execution_count": null,
   "metadata": {},
   "outputs": [],
   "source": [
    "ABC_mfg = Customer('ABC_mfg', 'abc@gmail.com', 'Atlanta')\n",
    "ABC_loan = Loan(5000000, 0)\n",
    "ABC_collateral = Accounts_receivable(6000000, 600000, .85)\n",
    "ABC_interest = Interest(.03, .0325)"
   ]
  },
  {
   "cell_type": "markdown",
   "metadata": {},
   "source": [
    "#### Verify the customer object:"
   ]
  },
  {
   "cell_type": "code",
   "execution_count": null,
   "metadata": {},
   "outputs": [],
   "source": [
    "ABC_mfg"
   ]
  },
  {
   "cell_type": "markdown",
   "metadata": {},
   "source": [
    "#### Verify the loan object:"
   ]
  },
  {
   "cell_type": "code",
   "execution_count": null,
   "metadata": {},
   "outputs": [],
   "source": [
    "ABC_loan"
   ]
  },
  {
   "cell_type": "markdown",
   "metadata": {},
   "source": [
    "#### Verify the collateral object:"
   ]
  },
  {
   "cell_type": "code",
   "execution_count": null,
   "metadata": {},
   "outputs": [],
   "source": [
    "ABC_collateral"
   ]
  },
  {
   "cell_type": "markdown",
   "metadata": {},
   "source": [
    "#### Verify the interest object"
   ]
  },
  {
   "cell_type": "code",
   "execution_count": null,
   "metadata": {},
   "outputs": [],
   "source": [
    "ABC_interest"
   ]
  },
  {
   "cell_type": "code",
   "execution_count": null,
   "metadata": {},
   "outputs": [],
   "source": [
    "f'The interest rate is the sum of the base rate plus the margin: {ABC_interest.interest_rate():.2%}'"
   ]
  },
  {
   "cell_type": "markdown",
   "metadata": {},
   "source": [
    "### <font color = green > To summarize:\n",
    "* ABC mfg has a commited credit facility secured by the company's accounts receivable.  The initial loan balance is $0.\n",
    "* ABC mfg has pledged 6,000,000 of accounts to the lender but the lender but determined that past due accounts are 600,000 and will lend 85 percent of the eligible accounts.\n",
    "* The interest rate consists of two parts, a base rate and a margin.  The base rate is typically tied to an index such as 90 libor, US prime rate or some similar market rate.  The number is variable, that is it can fluctuate with the market.  The lenders margin is 3.25 percent above the index.  This percentage is contractually fixed.</font>\n",
    "\n"
   ]
  },
  {
   "cell_type": "markdown",
   "metadata": {},
   "source": [
    "> #### An important concept is the term \"availability\".  For many borrowers excess availability is synonomous with liquidity"
   ]
  },
  {
   "cell_type": "code",
   "execution_count": null,
   "metadata": {},
   "outputs": [],
   "source": [
    "collateral_availability = ABC_collateral.loan_availability()\n",
    "f'Collateral Availability totals ${collateral_availability:,.2f}.  This equates to gross acounts minus past dues and subsequently reduced by the advance rate of 85%'"
   ]
  },
  {
   "cell_type": "code",
   "execution_count": null,
   "metadata": {},
   "outputs": [],
   "source": [
    "excess_avail = excess_availability(ABC_collateral, ABC_loan)\n",
    "f'Excess Availability totals ${excess_avail:,.2f}.  Excess availability equates to collateral availability less the loan balance'"
   ]
  },
  {
   "cell_type": "markdown",
   "metadata": {},
   "source": [
    "### So far, excess Availability is the same as total Availability that's true because the borrower has a zero loan balance.  Lets borrow some money and see what happens"
   ]
  },
  {
   "cell_type": "markdown",
   "metadata": {},
   "source": [
    "#### We will call the loan_draw method on the loan object to make a $50,000 loan advance"
   ]
  },
  {
   "cell_type": "code",
   "execution_count": null,
   "metadata": {},
   "outputs": [],
   "source": [
    "f\"The borrower draws down $50,000 and the new loan balance is ${ABC_loan.loan_draw(50000):,.2f}\""
   ]
  },
  {
   "cell_type": "code",
   "execution_count": null,
   "metadata": {},
   "outputs": [],
   "source": [
    "f\" After the draw the excess availability has dropped $50,000 to ${excess_availability(ABC_collateral, ABC_loan):,.2f}\""
   ]
  },
  {
   "cell_type": "code",
   "execution_count": null,
   "metadata": {},
   "outputs": [],
   "source": [
    "ABC_loan"
   ]
  },
  {
   "cell_type": "code",
   "execution_count": null,
   "metadata": {},
   "outputs": [],
   "source": [
    "ABC_collateral"
   ]
  },
  {
   "cell_type": "markdown",
   "metadata": {},
   "source": [
    "#### Next the borrower collects $10,000 of accounts.  We apply the collections to reduce the loan balance and to reduce the collateral balance"
   ]
  },
  {
   "cell_type": "code",
   "execution_count": null,
   "metadata": {},
   "outputs": [],
   "source": [
    "sales_collections(ABC_collateral, ABC_loan, 10000)"
   ]
  },
  {
   "cell_type": "code",
   "execution_count": null,
   "metadata": {},
   "outputs": [],
   "source": [
    "f\"The new loan amount is ${ABC_loan.loan:,.2f}\" "
   ]
  },
  {
   "cell_type": "code",
   "execution_count": null,
   "metadata": {},
   "outputs": [],
   "source": [
    "f\"The new excess availability is ${excess_availability(ABC_collateral, ABC_loan):,.2f}\""
   ]
  },
  {
   "cell_type": "markdown",
   "metadata": {},
   "source": [
    "#### Let's recap:"
   ]
  },
  {
   "cell_type": "code",
   "execution_count": null,
   "metadata": {},
   "outputs": [],
   "source": [
    "ABC_loan"
   ]
  },
  {
   "cell_type": "code",
   "execution_count": null,
   "metadata": {},
   "outputs": [],
   "source": [
    "ABC_collateral"
   ]
  },
  {
   "cell_type": "code",
   "execution_count": null,
   "metadata": {},
   "outputs": [],
   "source": [
    "excess_avail = excess_availability(ABC_collateral, ABC_loan)\n",
    "f'Excess Availability totals ${excess_avail:,.2f}.'"
   ]
  },
  {
   "cell_type": "markdown",
   "metadata": {},
   "source": [
    "> ### <font color = 'green'> Once again to summarize:\n",
    "* The borrower opened with no loan and 4,590,000 in excess undrawn availability on the line of credit.\n",
    "* The borrower then took a draw for 50,000.  The loan went up and excess availability went down, both by 50,000\n",
    "* Next the borrower collected 10,000 of accounts receivable. The loan decreases by $10,000 and the collateral decreases by $10,000 but the excess availability, the liquidity of the business increases by 1,500."
   ]
  },
  {
   "cell_type": "code",
   "execution_count": null,
   "metadata": {},
   "outputs": [],
   "source": [
    "ABC_loan.loan_draw(10000000)"
   ]
  },
  {
   "cell_type": "code",
   "execution_count": null,
   "metadata": {},
   "outputs": [],
   "source": [
    "# date_hist = []\n",
    "# loan_hist = []\n",
    "# i_rate_hist = []\n",
    "# accrued_interest_hist = []"
   ]
  },
  {
   "cell_type": "code",
   "execution_count": null,
   "metadata": {},
   "outputs": [],
   "source": [
    "loan_advance(ABC_collateral,ABC_loan,500000,2019,1,1,ABC_interest)\n",
    "loan_advance(ABC_collateral,ABC_loan,500000,2019,1,2,ABC_interest)\n",
    "loan_advance(ABC_collateral,ABC_loan,500000,2019,1,3,ABC_interest)\n",
    "loan_advance(ABC_collateral,ABC_loan,500000,2019,1,4,ABC_interest)\n",
    "loan_advance(ABC_collateral,ABC_loan,500000,2019,1,5,ABC_interest)\n",
    "loan_advance(ABC_collateral,ABC_loan,500000,2019,1,6,ABC_interest)\n",
    "loan_advance(ABC_collateral,ABC_loan,500000,2019,1,7,ABC_interest)\n",
    "loan_advance(ABC_collateral,ABC_loan,500000,2019,1,8,ABC_interest)\n"
   ]
  },
  {
   "cell_type": "code",
   "execution_count": null,
   "metadata": {},
   "outputs": [],
   "source": [
    "ABC_loan.loan"
   ]
  },
  {
   "cell_type": "code",
   "execution_count": null,
   "metadata": {},
   "outputs": [],
   "source": [
    "loan_hist"
   ]
  },
  {
   "cell_type": "code",
   "execution_count": null,
   "metadata": {},
   "outputs": [],
   "source": [
    "date_hist_str"
   ]
  },
  {
   "cell_type": "code",
   "execution_count": null,
   "metadata": {},
   "outputs": [],
   "source": [
    "i_rate_hist"
   ]
  },
  {
   "cell_type": "code",
   "execution_count": null,
   "metadata": {},
   "outputs": [],
   "source": [
    "accrued_interest_hist"
   ]
  },
  {
   "cell_type": "code",
   "execution_count": null,
   "metadata": {},
   "outputs": [],
   "source": [
    "liquidity_hist"
   ]
  },
  {
   "cell_type": "code",
   "execution_count": null,
   "metadata": {},
   "outputs": [],
   "source": [
    "len(date_hist_str), len(loan_hist), len(i_rate_hist), len(accrued_interest_hist)\n",
    "# date_hist_str = [day.strftime for day in date_hist]\n",
    "# date_hist_str = [i.strftime('%b-%d') for i in date_hist]\n",
    "date_hist_str = [i.strftime('%b-%d') for i in date_hist_str]"
   ]
  },
  {
   "cell_type": "code",
   "execution_count": null,
   "metadata": {},
   "outputs": [],
   "source": [
    "date_hist_str"
   ]
  },
  {
   "cell_type": "code",
   "execution_count": null,
   "metadata": {},
   "outputs": [],
   "source": [
    "# df = pd.DataFrame(\n",
    "#     {'loan':loan_hist,\n",
    "#      'Interest Rate': i_rate_hist,\n",
    "#      'Interest Accrual': accrued_interest_hist,\n",
    "#      'Liquidity': liquidity_hist\n",
    "#     }, index = date_hist)\n",
    "\n",
    "df = pd.DataFrame(\n",
    "    {'loan':loan_hist,\n",
    "     'Interest Rate': i_rate_hist,\n",
    "     'Interest Accrual': accrued_interest_hist,\n",
    "     'Liquidity': liquidity_hist,\n",
    "     'Date': date_hist_str\n",
    "    })"
   ]
  },
  {
   "cell_type": "code",
   "execution_count": null,
   "metadata": {},
   "outputs": [],
   "source": [
    "df"
   ]
  },
  {
   "cell_type": "code",
   "execution_count": null,
   "metadata": {},
   "outputs": [],
   "source": []
  },
  {
   "cell_type": "code",
   "execution_count": null,
   "metadata": {},
   "outputs": [],
   "source": [
    "%matplotlib inline\n",
    "# plt.scatter(loan_hist, date_hist)\n",
    "df.plot(kind='scatter',x='Date',y='Liquidity',color='red')\n",
    "plt.show()"
   ]
  },
  {
   "cell_type": "code",
   "execution_count": null,
   "metadata": {},
   "outputs": [],
   "source": [
    "ABC_loan"
   ]
  },
  {
   "cell_type": "code",
   "execution_count": null,
   "metadata": {},
   "outputs": [],
   "source": [
    "excess_availability(ABC_collateral, ABC_loan)"
   ]
  },
  {
   "cell_type": "code",
   "execution_count": null,
   "metadata": {},
   "outputs": [],
   "source": []
  },
  {
   "cell_type": "code",
   "execution_count": null,
   "metadata": {},
   "outputs": [],
   "source": []
  },
  {
   "cell_type": "code",
   "execution_count": null,
   "metadata": {},
   "outputs": [],
   "source": []
  }
 ],
 "metadata": {
  "kernelspec": {
   "display_name": "Python 3",
   "language": "python",
   "name": "python3"
  },
  "language_info": {
   "codemirror_mode": {
    "name": "ipython",
    "version": 3
   },
   "file_extension": ".py",
   "mimetype": "text/x-python",
   "name": "python",
   "nbconvert_exporter": "python",
   "pygments_lexer": "ipython3",
   "version": "3.6.8"
  }
 },
 "nbformat": 4,
 "nbformat_minor": 2
}
