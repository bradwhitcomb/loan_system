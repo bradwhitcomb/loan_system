{
 "cells": [
  {
   "cell_type": "markdown",
   "metadata": {},
   "source": [
    "# Asset-based lending: \"a primer in python\"<br>\n",
    ">## <font color = green>Asset_based lending (ABL) is an efficient and flexible technique to finance working capital, especially for leveraged businesses that need to manage cash.  It works quite well for noninvestment grade manufacturers and distributors that want to finance the growth of inventories and accounts.  In this notebook I've written a simple ABL platform in python to illustrate ABL's capabilities.\n",
    "</font>\n",
    "\n",
    ">__[ABL from Wikipedia](https://en.wikipedia.org/wiki/Asset-based_lending)__\n",
    "\n",
    "\n"
   ]
  },
  {
   "cell_type": "markdown",
   "metadata": {},
   "source": [
    ">## <font color = 'blue'>Managing cash drives ABL. For simplicity sake we are only using accounts receivable as collateral.  Here are a few critical points to understand about our model:\n",
    ">*  The model tracks three primary cash flows:\n",
    "    * <b>Presentments.</b>The line of credit funds checks presented for payment, outgoing wires and ACH transfers out.  In our model the method loan.draw(presentments) is used to fund cash outflows and results in a increase on the line of credit.\n",
    "    * <b>Cash collections</b>.  The function, sales_collections(collateral_object, loan_object, collections) takes cash collections and uses it to reduce the loan balance and the accounts receivable.\n",
    "    * <b>New Sales</b>.  The method collateral_object.new_sales(sales) increase the accounts receivable\n",
    "*  The model also tracks two stock accounts:\n",
    "    * <b>Loan account.</b>  The loan consisting of the commited facility and the loan balance.  \n",
    "    * <b>Collateral account.</b>  The total amount of accounts receivable.\n",
    "* Lastly and most importantly the model provides a tool for company management and lending risk officers to monitor and track liquidity\n",
    "    * <b>Availability.</b>  Calculates the maximun loan value of the collateral.  The class method Accounts_receivable.loan_availability calculates the loan value of the collateral\n",
    "    * <b>Excess Availability.</b>  The function excess_availability(collateral_object, loan_object) nets the value of the collateral against the outstanding loan with the difference being excess availability.  Almost every method and function in our model impacts this number</>\n"
   ]
  },
  {
   "cell_type": "markdown",
   "metadata": {},
   "source": [
    "### Step one.  import our dependencies"
   ]
  },
  {
   "cell_type": "code",
   "execution_count": 1,
   "metadata": {},
   "outputs": [],
   "source": [
    "from datetime import date\n",
    "import pandas as pd\n",
    "import matplotlib.pyplot as plt\n",
    "import random\n"
   ]
  },
  {
   "cell_type": "code",
   "execution_count": 2,
   "metadata": {},
   "outputs": [],
   "source": [
    "from loan_sys_objects import Customer, Loan, Accounts_receivable, Interest\n",
    "from loan_sys_functions import excess_availability, sales_collections, fund_presentments, daily_build, interest_settlement\n",
    "from loan_sys_functions import loan_hist, date_hist_str, i_rate_hist, accrued_interest_hist, liquidity_hist"
   ]
  },
  {
   "cell_type": "markdown",
   "metadata": {},
   "source": [
    "### Step two.  Create an instance of the following:\n",
    "* Customer object\n",
    "* Loan object\n",
    "* Accounts_receivable object\n",
    "* Interest object\n"
   ]
  },
  {
   "cell_type": "code",
   "execution_count": 3,
   "metadata": {},
   "outputs": [],
   "source": [
    "ABC_mfg = Customer('ABC_mfg', 'abc@gmail.com', 'Atlanta')\n",
    "ABC_loan = Loan(5000000, 0)\n",
    "ABC_collateral = Accounts_receivable(6000000, 600000, .85)\n",
    "ABC_interest = Interest(.03, .0325)"
   ]
  },
  {
   "cell_type": "markdown",
   "metadata": {},
   "source": [
    "#### Verify the customer object:"
   ]
  },
  {
   "cell_type": "code",
   "execution_count": 4,
   "metadata": {},
   "outputs": [
    {
     "data": {
      "text/plain": [
       "Customer name: ABC_mfg\n",
       "Customer email: abc@gmail.com\n",
       "Customer Location: Atlanta "
      ]
     },
     "execution_count": 4,
     "metadata": {},
     "output_type": "execute_result"
    }
   ],
   "source": [
    "ABC_mfg"
   ]
  },
  {
   "cell_type": "markdown",
   "metadata": {},
   "source": [
    "#### Verify the loan object:"
   ]
  },
  {
   "cell_type": "code",
   "execution_count": 5,
   "metadata": {},
   "outputs": [
    {
     "data": {
      "text/plain": [
       "Commitment:$5,000,000\n",
       "Loan: $0"
      ]
     },
     "execution_count": 5,
     "metadata": {},
     "output_type": "execute_result"
    }
   ],
   "source": [
    "ABC_loan"
   ]
  },
  {
   "cell_type": "markdown",
   "metadata": {},
   "source": [
    "#### Verify the collateral object:"
   ]
  },
  {
   "cell_type": "code",
   "execution_count": 6,
   "metadata": {},
   "outputs": [
    {
     "data": {
      "text/plain": [
       "Total Aging:$6,000,000\n",
       "Past Dues: $600,000\n",
       "Advance Rate: 85.00%"
      ]
     },
     "execution_count": 6,
     "metadata": {},
     "output_type": "execute_result"
    }
   ],
   "source": [
    "ABC_collateral"
   ]
  },
  {
   "cell_type": "markdown",
   "metadata": {},
   "source": [
    "#### Verify the interest object"
   ]
  },
  {
   "cell_type": "code",
   "execution_count": 7,
   "metadata": {},
   "outputs": [
    {
     "data": {
      "text/plain": [
       "Base Rate:3.00%\n",
       "Margin: 3.25%"
      ]
     },
     "execution_count": 7,
     "metadata": {},
     "output_type": "execute_result"
    }
   ],
   "source": [
    "ABC_interest"
   ]
  },
  {
   "cell_type": "code",
   "execution_count": 8,
   "metadata": {},
   "outputs": [
    {
     "data": {
      "text/plain": [
       "'The interest rate is the sum of the base rate plus the margin: 6.25%'"
      ]
     },
     "execution_count": 8,
     "metadata": {},
     "output_type": "execute_result"
    }
   ],
   "source": [
    "f'The interest rate is the sum of the base rate plus the margin: {ABC_interest.interest_rate():.2%}'"
   ]
  },
  {
   "cell_type": "markdown",
   "metadata": {},
   "source": [
    "### <font color = green > To summarize:\n",
    "* ABC mfg has a commited credit facility secured by the company's accounts receivable.  The initial loan balance is $0.\n",
    "* ABC mfg has pledged 6,000,000 of accounts to the lender but the lender but determined that past due accounts are 600,000 and will lend 85 percent of the eligible accounts.\n",
    "* The interest rate consists of two parts, a base rate and a margin.  The base rate is typically tied to an index such as 90 libor, US prime rate or some similar market rate.  The number is variable, that is it can fluctuate with the market.  The lenders margin is 3.25 percent above the index.  This percentage is contractually fixed.</font>\n",
    "\n"
   ]
  },
  {
   "cell_type": "markdown",
   "metadata": {},
   "source": [
    "> #### An important concept is the term \"availability\".  For many borrowers excess availability is synonomous with liquidity"
   ]
  },
  {
   "cell_type": "code",
   "execution_count": 9,
   "metadata": {},
   "outputs": [
    {
     "data": {
      "text/plain": [
       "'Collateral Availability totals $4,590,000.00.  This equates to gross acounts minus past dues and subsequently reduced by the advance rate of 85%'"
      ]
     },
     "execution_count": 9,
     "metadata": {},
     "output_type": "execute_result"
    }
   ],
   "source": [
    "collateral_availability = ABC_collateral.loan_availability()\n",
    "f'Collateral Availability totals ${collateral_availability:,.2f}.  This equates to gross acounts minus past dues and subsequently reduced by the advance rate of 85%'"
   ]
  },
  {
   "cell_type": "code",
   "execution_count": 10,
   "metadata": {},
   "outputs": [
    {
     "data": {
      "text/plain": [
       "'Excess Availability totals $4,590,000.00.  Excess availability equates to collateral availability less the loan balance'"
      ]
     },
     "execution_count": 10,
     "metadata": {},
     "output_type": "execute_result"
    }
   ],
   "source": [
    "excess_avail = excess_availability(ABC_collateral, ABC_loan)\n",
    "f'Excess Availability totals ${excess_avail:,.2f}.  Excess availability equates to collateral availability less the loan balance'"
   ]
  },
  {
   "cell_type": "markdown",
   "metadata": {},
   "source": [
    "### So far, excess Availability is the same as total Availability that's true because the borrower has a zero loan balance.  Lets borrow some money and see what happens"
   ]
  },
  {
   "cell_type": "markdown",
   "metadata": {},
   "source": [
    "#### We will call the loan_draw method on the loan object to make a $50,000 loan advance"
   ]
  },
  {
   "cell_type": "code",
   "execution_count": 11,
   "metadata": {},
   "outputs": [
    {
     "data": {
      "text/plain": [
       "'The borrower draws down $50,000 and the new loan balance is $50,000.00'"
      ]
     },
     "execution_count": 11,
     "metadata": {},
     "output_type": "execute_result"
    }
   ],
   "source": [
    "f\"The borrower draws down $50,000 and the new loan balance is ${ABC_loan.loan_draw(50000):,.2f}\""
   ]
  },
  {
   "cell_type": "code",
   "execution_count": 12,
   "metadata": {},
   "outputs": [
    {
     "data": {
      "text/plain": [
       "' After the draw the excess availability has dropped $50,000 to $4,540,000.00'"
      ]
     },
     "execution_count": 12,
     "metadata": {},
     "output_type": "execute_result"
    }
   ],
   "source": [
    "f\" After the draw the excess availability has dropped $50,000 to ${excess_availability(ABC_collateral, ABC_loan):,.2f}\""
   ]
  },
  {
   "cell_type": "code",
   "execution_count": 13,
   "metadata": {},
   "outputs": [
    {
     "data": {
      "text/plain": [
       "Commitment:$5,000,000\n",
       "Loan: $50,000"
      ]
     },
     "execution_count": 13,
     "metadata": {},
     "output_type": "execute_result"
    }
   ],
   "source": [
    "ABC_loan"
   ]
  },
  {
   "cell_type": "code",
   "execution_count": 14,
   "metadata": {},
   "outputs": [
    {
     "data": {
      "text/plain": [
       "Total Aging:$6,000,000\n",
       "Past Dues: $600,000\n",
       "Advance Rate: 85.00%"
      ]
     },
     "execution_count": 14,
     "metadata": {},
     "output_type": "execute_result"
    }
   ],
   "source": [
    "ABC_collateral"
   ]
  },
  {
   "cell_type": "markdown",
   "metadata": {},
   "source": [
    "#### Next the borrower collects $10,000 of accounts.  We apply the collections to reduce the loan balance and to reduce the collateral balance"
   ]
  },
  {
   "cell_type": "code",
   "execution_count": 15,
   "metadata": {},
   "outputs": [],
   "source": [
    "sales_collections(ABC_collateral, ABC_loan, 10000)"
   ]
  },
  {
   "cell_type": "code",
   "execution_count": 16,
   "metadata": {},
   "outputs": [
    {
     "data": {
      "text/plain": [
       "'The new loan amount is $40,000.00'"
      ]
     },
     "execution_count": 16,
     "metadata": {},
     "output_type": "execute_result"
    }
   ],
   "source": [
    "f\"The new loan amount is ${ABC_loan.loan:,.2f}\" "
   ]
  },
  {
   "cell_type": "code",
   "execution_count": 17,
   "metadata": {},
   "outputs": [
    {
     "data": {
      "text/plain": [
       "'The new excess availability is $4,541,500.00'"
      ]
     },
     "execution_count": 17,
     "metadata": {},
     "output_type": "execute_result"
    }
   ],
   "source": [
    "f\"The new excess availability is ${excess_availability(ABC_collateral, ABC_loan):,.2f}\""
   ]
  },
  {
   "cell_type": "markdown",
   "metadata": {},
   "source": [
    "#### Let's recap:"
   ]
  },
  {
   "cell_type": "code",
   "execution_count": 18,
   "metadata": {},
   "outputs": [
    {
     "data": {
      "text/plain": [
       "Commitment:$5,000,000\n",
       "Loan: $40,000"
      ]
     },
     "execution_count": 18,
     "metadata": {},
     "output_type": "execute_result"
    }
   ],
   "source": [
    "ABC_loan"
   ]
  },
  {
   "cell_type": "code",
   "execution_count": 19,
   "metadata": {},
   "outputs": [
    {
     "data": {
      "text/plain": [
       "Total Aging:$5,990,000\n",
       "Past Dues: $600,000\n",
       "Advance Rate: 85.00%"
      ]
     },
     "execution_count": 19,
     "metadata": {},
     "output_type": "execute_result"
    }
   ],
   "source": [
    "ABC_collateral"
   ]
  },
  {
   "cell_type": "code",
   "execution_count": 20,
   "metadata": {},
   "outputs": [
    {
     "data": {
      "text/plain": [
       "'Excess Availability totals $4,541,500.00.'"
      ]
     },
     "execution_count": 20,
     "metadata": {},
     "output_type": "execute_result"
    }
   ],
   "source": [
    "excess_avail = excess_availability(ABC_collateral, ABC_loan)\n",
    "f'Excess Availability totals ${excess_avail:,.2f}.'"
   ]
  },
  {
   "cell_type": "markdown",
   "metadata": {},
   "source": [
    "> ### <font color = 'green'> Once again to summarize:\n",
    "* The borrower opened with no loan and 4,590,000 in excess undrawn availability on the line of credit.\n",
    "* The borrower then took a draw for 50,000.  The loan went up and excess availability went down, both by 50,000\n",
    "* Next the borrower collected 10,000 of accounts receivable. The loan decreases by 10,000 and the collateral decreases by $10,000 but the excess availability, the liquidity of the business increases by 1,500.  This is an important point.  Borrowers are rewarded for collecting cash and paying down their lon by generating additional excess availability.  The EA increases by the reciprocal of the advance rate (15 percent), thus the 1,500."
   ]
  },
  {
   "cell_type": "code",
   "execution_count": 21,
   "metadata": {},
   "outputs": [
    {
     "data": {
      "text/plain": [
       "(None, 5991500)"
      ]
     },
     "execution_count": 21,
     "metadata": {},
     "output_type": "execute_result"
    }
   ],
   "source": [
    "fund_presentments(ABC_collateral, ABC_loan, 1000),ABC_collateral.new_sales(1500)"
   ]
  },
  {
   "cell_type": "code",
   "execution_count": 22,
   "metadata": {},
   "outputs": [
    {
     "data": {
      "text/plain": [
       "Total Aging:$5,991,500\n",
       "Past Dues: $600,000\n",
       "Advance Rate: 85.00%"
      ]
     },
     "execution_count": 22,
     "metadata": {},
     "output_type": "execute_result"
    }
   ],
   "source": [
    "# ABC_collateral.new_sales(1500) \n",
    "ABC_collateral"
   ]
  },
  {
   "cell_type": "code",
   "execution_count": 23,
   "metadata": {},
   "outputs": [
    {
     "name": "stdout",
     "output_type": "stream",
     "text": [
      "Your advance of $10,000,000.00 exceeds your excess_availability of $4,541,775.00:  ADVANCE REJECTED!\n"
     ]
    }
   ],
   "source": [
    "fund_presentments(ABC_collateral, ABC_loan, 10000000)"
   ]
  },
  {
   "cell_type": "code",
   "execution_count": 24,
   "metadata": {},
   "outputs": [
    {
     "data": {
      "text/plain": [
       "5000000"
      ]
     },
     "execution_count": 24,
     "metadata": {},
     "output_type": "execute_result"
    }
   ],
   "source": [
    "ABC_loan.commitment"
   ]
  },
  {
   "cell_type": "code",
   "execution_count": 25,
   "metadata": {},
   "outputs": [
    {
     "data": {
      "text/plain": [
       "41000"
      ]
     },
     "execution_count": 25,
     "metadata": {},
     "output_type": "execute_result"
    }
   ],
   "source": [
    "ABC_loan.loan"
   ]
  },
  {
   "cell_type": "code",
   "execution_count": 26,
   "metadata": {},
   "outputs": [
    {
     "data": {
      "text/plain": [
       "Commitment:$5,000,000\n",
       "Loan: $41,000"
      ]
     },
     "execution_count": 26,
     "metadata": {},
     "output_type": "execute_result"
    }
   ],
   "source": [
    "ABC_loan"
   ]
  },
  {
   "cell_type": "code",
   "execution_count": 27,
   "metadata": {},
   "outputs": [
    {
     "data": {
      "text/plain": [
       "4541775.0"
      ]
     },
     "execution_count": 27,
     "metadata": {},
     "output_type": "execute_result"
    }
   ],
   "source": [
    "excess_availability(ABC_collateral, ABC_loan)"
   ]
  },
  {
   "cell_type": "code",
   "execution_count": 28,
   "metadata": {},
   "outputs": [],
   "source": [
    "fund_presentments(ABC_collateral, ABC_loan, 225)"
   ]
  },
  {
   "cell_type": "code",
   "execution_count": 29,
   "metadata": {},
   "outputs": [
    {
     "data": {
      "text/plain": [
       "Commitment:$5,000,000\n",
       "Loan: $41,225"
      ]
     },
     "execution_count": 29,
     "metadata": {},
     "output_type": "execute_result"
    }
   ],
   "source": [
    "ABC_loan"
   ]
  },
  {
   "cell_type": "code",
   "execution_count": 30,
   "metadata": {},
   "outputs": [],
   "source": [
    "fund_presentments(ABC_collateral, ABC_loan, 1225000)"
   ]
  },
  {
   "cell_type": "code",
   "execution_count": 31,
   "metadata": {},
   "outputs": [
    {
     "data": {
      "text/plain": [
       "Commitment:$5,000,000\n",
       "Loan: $1,266,225"
      ]
     },
     "execution_count": 31,
     "metadata": {},
     "output_type": "execute_result"
    }
   ],
   "source": [
    "ABC_loan"
   ]
  },
  {
   "cell_type": "code",
   "execution_count": 32,
   "metadata": {},
   "outputs": [
    {
     "name": "stdout",
     "output_type": "stream",
     "text": [
      "Your advance of $5,000,000.00 exceeds your excess_availability of $3,316,550.00:  ADVANCE REJECTED!\n"
     ]
    }
   ],
   "source": [
    "fund_presentments(ABC_collateral, ABC_loan, 5000000)"
   ]
  },
  {
   "cell_type": "code",
   "execution_count": 33,
   "metadata": {},
   "outputs": [
    {
     "data": {
      "text/plain": [
       "10991500"
      ]
     },
     "execution_count": 33,
     "metadata": {},
     "output_type": "execute_result"
    }
   ],
   "source": [
    "ABC_collateral.new_sales(5000000)"
   ]
  },
  {
   "cell_type": "code",
   "execution_count": 34,
   "metadata": {},
   "outputs": [
    {
     "name": "stdout",
     "output_type": "stream",
     "text": [
      "ADVANCE REJECTED: Borrower may not exceed the loan commitment of $5,000,000.00\n"
     ]
    }
   ],
   "source": [
    "fund_presentments(ABC_collateral, ABC_loan, 5000000)"
   ]
  },
  {
   "cell_type": "markdown",
   "metadata": {},
   "source": [
    ">## <font color = 'blue'> The next step is to simulate a month's worth of activity and track our borrower.\n",
    "* We create a for loop that generates a month's wortth of daily presentments, sales, and collections.  We randomize a daily growth rate of between 0% and 5%.\n",
    "* Next we create a pandas DataFrame to display the activity.\n",
    "* Finally we plot the data."
   ]
  },
  {
   "cell_type": "code",
   "execution_count": 35,
   "metadata": {},
   "outputs": [],
   "source": [
    "new_co = Customer('New_Company', 'new@mail', 'roswell')\n",
    "new_loan = Loan(5000000, 1000000)\n",
    "new_collateral = Accounts_receivable(6000000, 600000, .85)\n",
    "new_interest = Interest(.03, .035)\n",
    "\n",
    "presentments = 125000\n",
    "sales = 100000\n",
    "collections = 80000\n",
    "day = 1\n",
    "\n",
    "for i in range(31):\n",
    "    presentments *= random.uniform(1.0, 1.05)\n",
    "    collections *= random.uniform(1.0, 1.05)\n",
    "    sales *= random.uniform(1.0, 1.05)\n",
    "\n",
    "    sales_collections(new_collateral, new_loan, int(collections))\n",
    "    fund_presentments(new_collateral, new_loan, int(presentments))\n",
    "    new_collateral.new_sales(int(sales))\n",
    "    daily_build(2019, 3, day, new_loan, new_interest, new_collateral)\n",
    "    \n",
    "    day += 1\n",
    "    "
   ]
  },
  {
   "cell_type": "code",
   "execution_count": 36,
   "metadata": {},
   "outputs": [],
   "source": [
    "df = pd.DataFrame(\n",
    "    {\n",
    "     'Date': date_hist_str,\n",
    "     'Loan': loan_hist,\n",
    "     'Excess Availability': liquidity_hist,  \n",
    "     'Interest Rate': i_rate_hist,\n",
    "     'Interest Accrual': accrued_interest_hist,\n",
    "    })\n",
    "df = df[[\"Date\", \"Loan\", \"Excess Availability\", \"Interest Rate\", \"Interest Accrual\"]]\n",
    "df.set_index('Date', inplace=True)\n",
    "df['Cumulative Interest'] = df['Interest Accrual'].cumsum()"
   ]
  },
  {
   "cell_type": "code",
   "execution_count": 37,
   "metadata": {},
   "outputs": [
    {
     "data": {
      "text/html": [
       "<div>\n",
       "<style scoped>\n",
       "    .dataframe tbody tr th:only-of-type {\n",
       "        vertical-align: middle;\n",
       "    }\n",
       "\n",
       "    .dataframe tbody tr th {\n",
       "        vertical-align: top;\n",
       "    }\n",
       "\n",
       "    .dataframe thead th {\n",
       "        text-align: right;\n",
       "    }\n",
       "</style>\n",
       "<table border=\"1\" class=\"dataframe\">\n",
       "  <thead>\n",
       "    <tr style=\"text-align: right;\">\n",
       "      <th></th>\n",
       "      <th>Loan</th>\n",
       "      <th>Excess Availability</th>\n",
       "      <th>Interest Rate</th>\n",
       "      <th>Interest Accrual</th>\n",
       "      <th>Cumulative Interest</th>\n",
       "    </tr>\n",
       "    <tr>\n",
       "      <th>Date</th>\n",
       "      <th></th>\n",
       "      <th></th>\n",
       "      <th></th>\n",
       "      <th></th>\n",
       "      <th></th>\n",
       "    </tr>\n",
       "  </thead>\n",
       "  <tbody>\n",
       "    <tr>\n",
       "      <th>2019-03-01</th>\n",
       "      <td>1046378</td>\n",
       "      <td>3561493.25</td>\n",
       "      <td>0.065</td>\n",
       "      <td>188.929361</td>\n",
       "      <td>188.929361</td>\n",
       "    </tr>\n",
       "    <tr>\n",
       "      <th>2019-03-02</th>\n",
       "      <td>1094801</td>\n",
       "      <td>3532262.40</td>\n",
       "      <td>0.065</td>\n",
       "      <td>197.672403</td>\n",
       "      <td>386.601764</td>\n",
       "    </tr>\n",
       "    <tr>\n",
       "      <th>2019-03-03</th>\n",
       "      <td>1148162</td>\n",
       "      <td>3500627.40</td>\n",
       "      <td>0.065</td>\n",
       "      <td>207.307028</td>\n",
       "      <td>593.908792</td>\n",
       "    </tr>\n",
       "    <tr>\n",
       "      <th>2019-03-04</th>\n",
       "      <td>1204769</td>\n",
       "      <td>3463442.90</td>\n",
       "      <td>0.065</td>\n",
       "      <td>217.527736</td>\n",
       "      <td>811.436528</td>\n",
       "    </tr>\n",
       "    <tr>\n",
       "      <th>2019-03-05</th>\n",
       "      <td>1262685</td>\n",
       "      <td>3424990.20</td>\n",
       "      <td>0.065</td>\n",
       "      <td>227.984792</td>\n",
       "      <td>1039.421319</td>\n",
       "    </tr>\n",
       "    <tr>\n",
       "      <th>2019-03-06</th>\n",
       "      <td>1320926</td>\n",
       "      <td>3384378.20</td>\n",
       "      <td>0.065</td>\n",
       "      <td>238.500528</td>\n",
       "      <td>1277.921847</td>\n",
       "    </tr>\n",
       "    <tr>\n",
       "      <th>2019-03-07</th>\n",
       "      <td>1379995</td>\n",
       "      <td>3340679.75</td>\n",
       "      <td>0.065</td>\n",
       "      <td>249.165764</td>\n",
       "      <td>1527.087611</td>\n",
       "    </tr>\n",
       "    <tr>\n",
       "      <th>2019-03-08</th>\n",
       "      <td>1440201</td>\n",
       "      <td>3294449.45</td>\n",
       "      <td>0.065</td>\n",
       "      <td>260.036292</td>\n",
       "      <td>1787.123903</td>\n",
       "    </tr>\n",
       "    <tr>\n",
       "      <th>2019-03-09</th>\n",
       "      <td>1504600</td>\n",
       "      <td>3245698.10</td>\n",
       "      <td>0.065</td>\n",
       "      <td>271.663889</td>\n",
       "      <td>2058.787792</td>\n",
       "    </tr>\n",
       "    <tr>\n",
       "      <th>2019-03-10</th>\n",
       "      <td>1573363</td>\n",
       "      <td>3193595.95</td>\n",
       "      <td>0.065</td>\n",
       "      <td>284.079431</td>\n",
       "      <td>2342.867222</td>\n",
       "    </tr>\n",
       "    <tr>\n",
       "      <th>2019-03-11</th>\n",
       "      <td>1647243</td>\n",
       "      <td>3137549.80</td>\n",
       "      <td>0.065</td>\n",
       "      <td>297.418875</td>\n",
       "      <td>2640.286097</td>\n",
       "    </tr>\n",
       "    <tr>\n",
       "      <th>2019-03-12</th>\n",
       "      <td>1723048</td>\n",
       "      <td>3082661.60</td>\n",
       "      <td>0.065</td>\n",
       "      <td>311.105889</td>\n",
       "      <td>2951.391986</td>\n",
       "    </tr>\n",
       "    <tr>\n",
       "      <th>2019-03-13</th>\n",
       "      <td>1799902</td>\n",
       "      <td>3025514.00</td>\n",
       "      <td>0.065</td>\n",
       "      <td>324.982306</td>\n",
       "      <td>3276.374292</td>\n",
       "    </tr>\n",
       "    <tr>\n",
       "      <th>2019-03-14</th>\n",
       "      <td>1876452</td>\n",
       "      <td>2967467.65</td>\n",
       "      <td>0.065</td>\n",
       "      <td>338.803833</td>\n",
       "      <td>3615.178125</td>\n",
       "    </tr>\n",
       "    <tr>\n",
       "      <th>2019-03-15</th>\n",
       "      <td>1954540</td>\n",
       "      <td>2906887.95</td>\n",
       "      <td>0.065</td>\n",
       "      <td>352.903056</td>\n",
       "      <td>3968.081181</td>\n",
       "    </tr>\n",
       "    <tr>\n",
       "      <th>2019-03-16</th>\n",
       "      <td>2037664</td>\n",
       "      <td>2838798.75</td>\n",
       "      <td>0.065</td>\n",
       "      <td>367.911556</td>\n",
       "      <td>4335.992736</td>\n",
       "    </tr>\n",
       "    <tr>\n",
       "      <th>2019-03-17</th>\n",
       "      <td>2119137</td>\n",
       "      <td>2772962.35</td>\n",
       "      <td>0.065</td>\n",
       "      <td>382.621958</td>\n",
       "      <td>4718.614694</td>\n",
       "    </tr>\n",
       "    <tr>\n",
       "      <th>2019-03-18</th>\n",
       "      <td>2199787</td>\n",
       "      <td>2709547.80</td>\n",
       "      <td>0.065</td>\n",
       "      <td>397.183764</td>\n",
       "      <td>5115.798458</td>\n",
       "    </tr>\n",
       "    <tr>\n",
       "      <th>2019-03-19</th>\n",
       "      <td>2285035</td>\n",
       "      <td>2642564.60</td>\n",
       "      <td>0.065</td>\n",
       "      <td>412.575764</td>\n",
       "      <td>5528.374222</td>\n",
       "    </tr>\n",
       "    <tr>\n",
       "      <th>2019-03-20</th>\n",
       "      <td>2378364</td>\n",
       "      <td>2566466.80</td>\n",
       "      <td>0.065</td>\n",
       "      <td>429.426833</td>\n",
       "      <td>5957.801056</td>\n",
       "    </tr>\n",
       "    <tr>\n",
       "      <th>2019-03-21</th>\n",
       "      <td>2472031</td>\n",
       "      <td>2487396.00</td>\n",
       "      <td>0.065</td>\n",
       "      <td>446.338931</td>\n",
       "      <td>6404.139986</td>\n",
       "    </tr>\n",
       "    <tr>\n",
       "      <th>2019-03-22</th>\n",
       "      <td>2568449</td>\n",
       "      <td>2407960.15</td>\n",
       "      <td>0.065</td>\n",
       "      <td>463.747736</td>\n",
       "      <td>6867.887722</td>\n",
       "    </tr>\n",
       "    <tr>\n",
       "      <th>2019-03-23</th>\n",
       "      <td>2660096</td>\n",
       "      <td>2332726.65</td>\n",
       "      <td>0.065</td>\n",
       "      <td>480.295111</td>\n",
       "      <td>7348.182833</td>\n",
       "    </tr>\n",
       "    <tr>\n",
       "      <th>2019-03-24</th>\n",
       "      <td>2753159</td>\n",
       "      <td>2251599.35</td>\n",
       "      <td>0.065</td>\n",
       "      <td>497.098153</td>\n",
       "      <td>7845.280986</td>\n",
       "    </tr>\n",
       "    <tr>\n",
       "      <th>2019-03-25</th>\n",
       "      <td>2844106</td>\n",
       "      <td>2168145.10</td>\n",
       "      <td>0.065</td>\n",
       "      <td>513.519139</td>\n",
       "      <td>8358.800125</td>\n",
       "    </tr>\n",
       "    <tr>\n",
       "      <th>2019-03-26</th>\n",
       "      <td>2942433</td>\n",
       "      <td>2075515.65</td>\n",
       "      <td>0.065</td>\n",
       "      <td>531.272625</td>\n",
       "      <td>8890.072750</td>\n",
       "    </tr>\n",
       "    <tr>\n",
       "      <th>2019-03-27</th>\n",
       "      <td>3043516</td>\n",
       "      <td>1976073.15</td>\n",
       "      <td>0.065</td>\n",
       "      <td>549.523722</td>\n",
       "      <td>9439.596472</td>\n",
       "    </tr>\n",
       "    <tr>\n",
       "      <th>2019-03-28</th>\n",
       "      <td>3157563</td>\n",
       "      <td>1866435.95</td>\n",
       "      <td>0.065</td>\n",
       "      <td>570.115542</td>\n",
       "      <td>10009.712014</td>\n",
       "    </tr>\n",
       "    <tr>\n",
       "      <th>2019-03-29</th>\n",
       "      <td>3282013</td>\n",
       "      <td>1745296.70</td>\n",
       "      <td>0.065</td>\n",
       "      <td>592.585681</td>\n",
       "      <td>10602.297694</td>\n",
       "    </tr>\n",
       "    <tr>\n",
       "      <th>2019-03-30</th>\n",
       "      <td>3407897</td>\n",
       "      <td>1621549.60</td>\n",
       "      <td>0.065</td>\n",
       "      <td>615.314736</td>\n",
       "      <td>11217.612431</td>\n",
       "    </tr>\n",
       "    <tr>\n",
       "      <th>2019-03-31</th>\n",
       "      <td>3541766</td>\n",
       "      <td>1488420.95</td>\n",
       "      <td>0.065</td>\n",
       "      <td>639.485528</td>\n",
       "      <td>11857.097958</td>\n",
       "    </tr>\n",
       "  </tbody>\n",
       "</table>\n",
       "</div>"
      ],
      "text/plain": [
       "               Loan  Excess Availability  Interest Rate  Interest Accrual  \\\n",
       "Date                                                                        \n",
       "2019-03-01  1046378           3561493.25          0.065        188.929361   \n",
       "2019-03-02  1094801           3532262.40          0.065        197.672403   \n",
       "2019-03-03  1148162           3500627.40          0.065        207.307028   \n",
       "2019-03-04  1204769           3463442.90          0.065        217.527736   \n",
       "2019-03-05  1262685           3424990.20          0.065        227.984792   \n",
       "2019-03-06  1320926           3384378.20          0.065        238.500528   \n",
       "2019-03-07  1379995           3340679.75          0.065        249.165764   \n",
       "2019-03-08  1440201           3294449.45          0.065        260.036292   \n",
       "2019-03-09  1504600           3245698.10          0.065        271.663889   \n",
       "2019-03-10  1573363           3193595.95          0.065        284.079431   \n",
       "2019-03-11  1647243           3137549.80          0.065        297.418875   \n",
       "2019-03-12  1723048           3082661.60          0.065        311.105889   \n",
       "2019-03-13  1799902           3025514.00          0.065        324.982306   \n",
       "2019-03-14  1876452           2967467.65          0.065        338.803833   \n",
       "2019-03-15  1954540           2906887.95          0.065        352.903056   \n",
       "2019-03-16  2037664           2838798.75          0.065        367.911556   \n",
       "2019-03-17  2119137           2772962.35          0.065        382.621958   \n",
       "2019-03-18  2199787           2709547.80          0.065        397.183764   \n",
       "2019-03-19  2285035           2642564.60          0.065        412.575764   \n",
       "2019-03-20  2378364           2566466.80          0.065        429.426833   \n",
       "2019-03-21  2472031           2487396.00          0.065        446.338931   \n",
       "2019-03-22  2568449           2407960.15          0.065        463.747736   \n",
       "2019-03-23  2660096           2332726.65          0.065        480.295111   \n",
       "2019-03-24  2753159           2251599.35          0.065        497.098153   \n",
       "2019-03-25  2844106           2168145.10          0.065        513.519139   \n",
       "2019-03-26  2942433           2075515.65          0.065        531.272625   \n",
       "2019-03-27  3043516           1976073.15          0.065        549.523722   \n",
       "2019-03-28  3157563           1866435.95          0.065        570.115542   \n",
       "2019-03-29  3282013           1745296.70          0.065        592.585681   \n",
       "2019-03-30  3407897           1621549.60          0.065        615.314736   \n",
       "2019-03-31  3541766           1488420.95          0.065        639.485528   \n",
       "\n",
       "            Cumulative Interest  \n",
       "Date                             \n",
       "2019-03-01           188.929361  \n",
       "2019-03-02           386.601764  \n",
       "2019-03-03           593.908792  \n",
       "2019-03-04           811.436528  \n",
       "2019-03-05          1039.421319  \n",
       "2019-03-06          1277.921847  \n",
       "2019-03-07          1527.087611  \n",
       "2019-03-08          1787.123903  \n",
       "2019-03-09          2058.787792  \n",
       "2019-03-10          2342.867222  \n",
       "2019-03-11          2640.286097  \n",
       "2019-03-12          2951.391986  \n",
       "2019-03-13          3276.374292  \n",
       "2019-03-14          3615.178125  \n",
       "2019-03-15          3968.081181  \n",
       "2019-03-16          4335.992736  \n",
       "2019-03-17          4718.614694  \n",
       "2019-03-18          5115.798458  \n",
       "2019-03-19          5528.374222  \n",
       "2019-03-20          5957.801056  \n",
       "2019-03-21          6404.139986  \n",
       "2019-03-22          6867.887722  \n",
       "2019-03-23          7348.182833  \n",
       "2019-03-24          7845.280986  \n",
       "2019-03-25          8358.800125  \n",
       "2019-03-26          8890.072750  \n",
       "2019-03-27          9439.596472  \n",
       "2019-03-28         10009.712014  \n",
       "2019-03-29         10602.297694  \n",
       "2019-03-30         11217.612431  \n",
       "2019-03-31         11857.097958  "
      ]
     },
     "execution_count": 37,
     "metadata": {},
     "output_type": "execute_result"
    }
   ],
   "source": [
    "df"
   ]
  },
  {
   "cell_type": "code",
   "execution_count": 38,
   "metadata": {},
   "outputs": [
    {
     "data": {
      "text/plain": [
       "<matplotlib.figure.Figure at 0x11d2beba8>"
      ]
     },
     "metadata": {},
     "output_type": "display_data"
    },
    {
     "data": {
      "image/png": "[encoded data removed]",
      "text/plain": [
       "<matplotlib.figure.Figure at 0x11d58bac8>"
      ]
     },
     "metadata": {
      "needs_background": "light"
     },
     "output_type": "display_data"
    }
   ],
   "source": [
    "%matplotlib inline\n",
    "plt.figure()\n",
    "df.plot()\n",
    "plt.legend(loc='best')\n",
    "plt.ylabel('Dollars', color='g')\n",
    "plt.show()"
   ]
  },
  {
   "cell_type": "markdown",
   "metadata": {},
   "source": [
    "### Next step is to calculate the interest cost.  Below we calculate the loan balance before the interest settlement.  Then calculate the loan balance after the interest settlement calculation.  The difference in the loan balance is the interest charge for the month.  Note this should foot with the last number of the cumulative interest data series in the data frame."
   ]
  },
  {
   "cell_type": "code",
   "execution_count": 39,
   "metadata": {},
   "outputs": [
    {
     "data": {
      "text/plain": [
       "3541766"
      ]
     },
     "execution_count": 39,
     "metadata": {},
     "output_type": "execute_result"
    }
   ],
   "source": [
    "new_loan.loan"
   ]
  },
  {
   "cell_type": "code",
   "execution_count": 40,
   "metadata": {},
   "outputs": [],
   "source": [
    "interest_settlement(2019, 3, 1, 2019, 3, 31, new_loan)"
   ]
  },
  {
   "cell_type": "code",
   "execution_count": 41,
   "metadata": {},
   "outputs": [
    {
     "data": {
      "text/plain": [
       "3553623.0979583333"
      ]
     },
     "execution_count": 41,
     "metadata": {},
     "output_type": "execute_result"
    }
   ],
   "source": [
    "new_loan.loan"
   ]
  },
  {
   "cell_type": "markdown",
   "metadata": {},
   "source": [
    "### Last step is to reset the data so that we can run a notebook using fresh data."
   ]
  },
  {
   "cell_type": "code",
   "execution_count": 43,
   "metadata": {},
   "outputs": [
    {
     "data": {
      "text/plain": [
       "(None, None, None, None, None)"
      ]
     },
     "execution_count": 43,
     "metadata": {},
     "output_type": "execute_result"
    }
   ],
   "source": [
    "loan_hist.clear(), date_hist_str.clear(), i_rate_hist.clear(), accrued_interest_hist.clear(), liquidity_hist.clear()"
   ]
  },
  {
   "cell_type": "code",
   "execution_count": null,
   "metadata": {},
   "outputs": [],
   "source": []
  }
 ],
 "metadata": {
  "kernelspec": {
   "display_name": "Python 3",
   "language": "python",
   "name": "python3"
  },
  "language_info": {
   "codemirror_mode": {
    "name": "ipython",
    "version": 3
   },
   "file_extension": ".py",
   "mimetype": "text/x-python",
   "name": "python",
   "nbconvert_exporter": "python",
   "pygments_lexer": "ipython3",
   "version": "3.6.8"
  }
 },
 "nbformat": 4,
 "nbformat_minor": 2
}
